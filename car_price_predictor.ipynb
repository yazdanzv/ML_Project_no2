{
 "cells": [
  {
   "attachments": {},
   "cell_type": "markdown",
   "metadata": {},
   "source": [
    "<h2>Load Data</h2>\n",
    "<h5><b>NOTE:</b> csv file change maually and price column moved to the last column</h5>"
   ]
  },
  {
   "cell_type": "code",
   "execution_count": 1,
   "metadata": {},
   "outputs": [],
   "source": [
    "import pandas as pd\n",
    "import numpy as np\n",
    "import matplotlib.pyplot as plt\n",
    "import seaborn as sns\n",
    "from sklearn.model_selection import train_test_split\n",
    "from sklearn.preprocessing import LabelEncoder\n",
    "from sklearn.decomposition import PCA\n",
    "from sklearn.preprocessing import StandardScaler\n",
    "from sklearn.model_selection import GridSearchCV\n",
    "from sklearn.linear_model import Ridge, Lasso"
   ]
  },
  {
   "cell_type": "code",
   "execution_count": 4,
   "metadata": {},
   "outputs": [],
   "source": [
    "# Load data\n",
    "df = pd.read_csv('.\\\\car_details_v4.csv')\n",
    "\n",
    "# Split features and lables (prices)\n",
    "X = df.iloc[:, :-1]\n",
    "y = df.iloc[:, -1]"
   ]
  },
  {
   "attachments": {},
   "cell_type": "markdown",
   "metadata": {},
   "source": [
    "<h2>Show some features</h2>\n",
    "<ul>\n",
    "    <li>Price</li>\n",
    "    <li>Sitting Capisity</li>\n",
    "    <li>Year</li>\n",
    "    <li>Height</li>\n",
    "    <li>Lenght</li>\n",
    "    <li>Width</li>\n",
    "</ul>"
   ]
  },
  {
   "cell_type": "code",
   "execution_count": 5,
   "metadata": {},
   "outputs": [
    {
     "data": {
      "image/png": "[encoded data removed]",
      "text/plain": [
       "<Figure size 640x480 with 6 Axes>"
      ]
     },
     "metadata": {},
     "output_type": "display_data"
    }
   ],
   "source": [
    "prices = y.values\n",
    "years = df['Year'].values\n",
    "siting = df['Seating Capacity'].values\n",
    "widths = df['Width'].values\n",
    "heights = df['Height'].values\n",
    "lenghts = df['Length'].values\n",
    "\n",
    "# Prices\n",
    "plt.subplot(2, 3, 1)\n",
    "plt.subplots_adjust(left=0.1,\n",
    "                    bottom=0.1, \n",
    "                    right=0.9, \n",
    "                    top=0.9, \n",
    "                    wspace=0.4, \n",
    "                    hspace=0.4)\n",
    "prices_hist = plt.hist(prices, bins=20, color='skyblue')\n",
    "plt.title(\"Price\")\n",
    "\n",
    "# Years\n",
    "plt.subplot(2, 3, 2)\n",
    "plt.subplots_adjust(left=0.1,\n",
    "                    bottom=0.1, \n",
    "                    right=0.9, \n",
    "                    top=0.9, \n",
    "                    wspace=0.4, \n",
    "                    hspace=0.4)\n",
    "years_hist = plt.hist(years, bins=20, color='red')\n",
    "plt.title(\"Year\")\n",
    "\n",
    "# Sitting Capacity\n",
    "plt.subplot(2, 3, 3)\n",
    "plt.subplots_adjust(left=0.1,\n",
    "                    bottom=0.1, \n",
    "                    right=0.9, \n",
    "                    top=0.9, \n",
    "                    wspace=0.4, \n",
    "                    hspace=0.4)\n",
    "makes_hist = plt.hist(siting, bins=20, color='green')\n",
    "plt.title(\"Sitting Capacity\")\n",
    "\n",
    "# Widths\n",
    "plt.subplot(2, 3, 4)\n",
    "plt.subplots_adjust(left=0.1,\n",
    "                    bottom=0.1, \n",
    "                    right=0.9, \n",
    "                    top=0.9, \n",
    "                    wspace=0.4, \n",
    "                    hspace=0.4)\n",
    "makes_hist = plt.hist(siting, bins=20, color='purple')\n",
    "plt.title(\"Width\")\n",
    "\n",
    "# Lenghts\n",
    "plt.subplot(2, 3, 5)\n",
    "plt.subplots_adjust(left=0.1,\n",
    "                    bottom=0.1, \n",
    "                    right=0.9, \n",
    "                    top=0.9, \n",
    "                    wspace=0.4, \n",
    "                    hspace=0.4)\n",
    "makes_hist = plt.hist(widths, bins=20, color='salmon')\n",
    "plt.title(\"Lenght\")\n",
    "\n",
    "# Heights\n",
    "plt.subplot(2, 3, 6)\n",
    "plt.subplots_adjust(left=0.1,\n",
    "                    bottom=0.1, \n",
    "                    right=0.9, \n",
    "                    top=0.9, \n",
    "                    wspace=0.4, \n",
    "                    hspace=0.4)\n",
    "makes_hist = plt.hist(siting, bins=20, color='lightgreen')\n",
    "plt.title(\"Height\")\n",
    "\n",
    "plt.show()"
   ]
  },
  {
   "attachments": {},
   "cell_type": "markdown",
   "metadata": {},
   "source": [
    "<h2>Missing Values</h2>\n",
    "<h4>Statistics (Before Handling)</h4>"
   ]
  },
  {
   "cell_type": "code",
   "execution_count": 6,
   "metadata": {},
   "outputs": [
    {
     "name": "stdout",
     "output_type": "stream",
     "text": [
      "Make                    0\n",
      "Model                   0\n",
      "Year                    0\n",
      "Kilometer               0\n",
      "Fuel Type               0\n",
      "Transmission            0\n",
      "Location                0\n",
      "Color                   0\n",
      "Owner                   0\n",
      "Seller Type             0\n",
      "Engine                 80\n",
      "Max Power              80\n",
      "Max Torque             80\n",
      "Drivetrain            136\n",
      "Length                 64\n",
      "Width                  64\n",
      "Height                 64\n",
      "Seating Capacity       64\n",
      "Fuel Tank Capacity    113\n",
      "Price                   0\n",
      "dtype: int64\n"
     ]
    }
   ],
   "source": [
    "print(df.isnull().sum())"
   ]
  },
  {
   "attachments": {},
   "cell_type": "markdown",
   "metadata": {},
   "source": [
    "<h2>Missing Values</h2>\n",
    "<h4>Diagram (Before Handling)</h4>"
   ]
  },
  {
   "cell_type": "code",
   "execution_count": 7,
   "metadata": {},
   "outputs": [
    {
     "data": {
      "image/png": "[encoded data removed]",
      "text/plain": [
       "<Figure size 640x480 with 1 Axes>"
      ]
     },
     "metadata": {},
     "output_type": "display_data"
    }
   ],
   "source": [
    "nan_list = df.isnull().sum().values\n",
    "plt.bar([i for i in range(len(df.columns))], nan_list, width=0.5, align='center')\n",
    "plt.xlabel(\"Index of the Column\")\n",
    "plt.ylabel(\"Number of NaN data\")\n",
    "plt.title(\"NaN data statistics\")\n",
    "plt.show()"
   ]
  },
  {
   "attachments": {},
   "cell_type": "markdown",
   "metadata": {},
   "source": [
    "<h2>Missing Values</h2>\n",
    "<h4>Handling numeric and non-numeric missing values</h4>\n",
    "<h5>Numeric Values</h5>\n",
    "<ul>\n",
    "    <li>Length</li>\n",
    "    <li>Width</li>\n",
    "    <li>height</li>\n",
    "    <li>Fuel Tank Capacity</li>\n",
    "    <li>Sitting Capacity</li>\n",
    "    <li>Engine</li>\n",
    "    <li>Max Power</li>\n",
    "    <li>Max Torque</li>\n",
    "</ul>\n",
    "<h5>Non-Numeric Values</h5>\n",
    "<ul>\n",
    "    <li>Drivetrain</li>\n",
    "</ul>\n",
    "<h4><b>NOTE:</b> Selected method is to replace missing values with the mean of rest data</h4>"
   ]
  },
  {
   "cell_type": "code",
   "execution_count": 10,
   "metadata": {},
   "outputs": [],
   "source": [
    "# Numeric Values\n",
    "# Length\n",
    "df['Length'] = df['Length'].fillna(df['Length'].mean())\n",
    "\n",
    "# Width\n",
    "df['Width'] = df['Width'].fillna(df['Width'].mean())\n",
    "\n",
    "# Height\n",
    "df['Height'] = df['Height'].fillna(df['Height'].mean())\n",
    "\n",
    "# Fuel Tank Capacity\n",
    "df['Fuel Tank Capacity'] = df['Fuel Tank Capacity'].fillna(df['Fuel Tank Capacity'].mean())\n",
    "\n",
    "# Seating Capacity\n",
    "df['Seating Capacity'] = df['Seating Capacity'].fillna(df['Seating Capacity'].mean())\n",
    "\n",
    "# Engine\n",
    "import copy\n",
    "df_copy = copy.deepcopy(df)\n",
    "engines = list(df_copy['Engine'].values)\n",
    "\n",
    "for i in range(len(engines)):\n",
    "    if type(engines[i]) == str:\n",
    "        c_index = engines[i].find('c')\n",
    "        engines[i] = int(engines[i][:c_index])\n",
    "\n",
    "df_copy['Engine'] = np.array(engines)\n",
    "df_copy['Engine'] = df_copy['Engine'].fillna(df_copy['Engine'].mean())\n",
    "\n",
    "# Max Power\n",
    "max_powers = copy.deepcopy(df_copy['Max Power'].values)\n",
    "df_copy['Max Power'] = df_copy['Max Power'].fillna(np.random.choice(max_powers, size=1)[0])\n",
    "\n",
    "# Max Torque\n",
    "max_torques = copy.deepcopy(df_copy['Max Torque'].values)\n",
    "df_copy['Max Torque'] = df_copy['Max Torque'].fillna(np.random.choice(max_torques, size=1)[0])\n",
    "\n",
    "# Non-numeric Values\n",
    "# Drivetrain\n",
    "drivetrains = copy.deepcopy(df_copy['Drivetrain'].values)\n",
    "df_copy['Drivetrain'] = df_copy['Drivetrain'].fillna(np.random.choice(drivetrains, size=1)[0])\n",
    "\n",
    "# Set df again\n",
    "# Worked with the copy version of df to do not change main data set\n",
    "df = copy.deepcopy(df_copy)"
   ]
  },
  {
   "attachments": {},
   "cell_type": "markdown",
   "metadata": {},
   "source": [
    "<h2>Missing Values</h2>\n",
    "<h4>Statistics (After Handling)</h4>"
   ]
  },
  {
   "cell_type": "code",
   "execution_count": 11,
   "metadata": {},
   "outputs": [
    {
     "name": "stdout",
     "output_type": "stream",
     "text": [
      "Make                  0\n",
      "Model                 0\n",
      "Year                  0\n",
      "Kilometer             0\n",
      "Fuel Type             0\n",
      "Transmission          0\n",
      "Location              0\n",
      "Color                 0\n",
      "Owner                 0\n",
      "Seller Type           0\n",
      "Engine                0\n",
      "Max Power             0\n",
      "Max Torque            0\n",
      "Drivetrain            0\n",
      "Length                0\n",
      "Width                 0\n",
      "Height                0\n",
      "Seating Capacity      0\n",
      "Fuel Tank Capacity    0\n",
      "Price                 0\n",
      "dtype: int64\n"
     ]
    }
   ],
   "source": [
    "print(df.isnull().sum())"
   ]
  },
  {
   "attachments": {},
   "cell_type": "markdown",
   "metadata": {},
   "source": [
    "<h2>Encoding categorical data</h2>\n",
    "<ul>\n",
    "    <li>Model</li>\n",
    "    <li>Make</li>\n",
    "    <li>Fuel Type</li>\n",
    "    <li>Transmission</li>\n",
    "    <li>Location</li>\n",
    "    <li>Color</li>\n",
    "    <li>Owner</li>\n",
    "    <li>Seller Type</li>\n",
    "    <li>Drivetrain</li>\n",
    "</ul>"
   ]
  },
  {
   "cell_type": "code",
   "execution_count": 12,
   "metadata": {},
   "outputs": [],
   "source": [
    "label_encoder = LabelEncoder()\n",
    "df['Model'] = label_encoder.fit_transform(df['Model'])\n",
    "df['Make'] = label_encoder.fit_transform(df['Make'])\n",
    "df['Fuel Type'] = label_encoder.fit_transform(df['Fuel Type'])\n",
    "df['Transmission'] = label_encoder.fit_transform(df['Transmission'])\n",
    "df['Location'] = label_encoder.fit_transform(df['Location'])\n",
    "df['Color'] = label_encoder.fit_transform(df['Color'])\n",
    "df['Owner'] = label_encoder.fit_transform(df['Owner'])\n",
    "df['Seller Type'] = label_encoder.fit_transform(df['Seller Type'])\n",
    "df['Drivetrain'] = label_encoder.fit_transform(df['Drivetrain'])\n"
   ]
  },
  {
   "attachments": {},
   "cell_type": "markdown",
   "metadata": {},
   "source": [
    "<h2>Changing semi-categorical data</h2>\n",
    "<ul>\n",
    "    <li>Max Power</li>\n",
    "    <li>Max Torque</li>\n",
    "</ul>\n",
    "<h4><b>NOTE:</b> Two numbers in these columns are concanate to each other and then cast to integer</h4>"
   ]
  },
  {
   "cell_type": "code",
   "execution_count": 13,
   "metadata": {},
   "outputs": [
    {
     "name": "stdout",
     "output_type": "stream",
     "text": [
      "Max Power Column\n",
      "0        876000\n",
      "1        744000\n",
      "2        796000\n",
      "3        826000\n",
      "4       1483400\n",
      "         ...   \n",
      "2054    1383750\n",
      "2055     555500\n",
      "2056     706250\n",
      "2057    1884000\n",
      "2058     703600\n",
      "Name: Max Power, Length: 2059, dtype: int32\n",
      "Max Torques Column\n",
      "0       1094500\n",
      "1       1902000\n",
      "2       1127619\n",
      "3       1134200\n",
      "4       3431400\n",
      "         ...   \n",
      "2054    3301600\n",
      "2055     754000\n",
      "2056    1024000\n",
      "2057    4001750\n",
      "2058    1951400\n",
      "Name: Max Torque, Length: 2059, dtype: int32\n"
     ]
    }
   ],
   "source": [
    "import re\n",
    "# Max Power\n",
    "max_powers = list(max_powers)\n",
    "max_powers_edited = []\n",
    "for i in range(len(max_powers)):\n",
    "    temp = re.findall('[0-9]+', str(max_powers[i]))\n",
    "    if len(temp) >= 2:\n",
    "        num1 = copy.deepcopy(temp[0])\n",
    "        num2 = copy.deepcopy(temp[1])\n",
    "        num3 = int(num1 + num2)\n",
    "        max_powers_edited.append(num3)\n",
    "    else:\n",
    "        num3 = int(num1)\n",
    "        max_powers_edited.append(num3)\n",
    "\n",
    "df['Max Power'] = np.array(max_powers_edited)\n",
    "\n",
    "# Result\n",
    "print(\"Max Power Column\")\n",
    "print(df['Max Power'])\n",
    "    \n",
    "# Max Torque\n",
    "max_torques = list(max_torques)\n",
    "max_torques_edited = []\n",
    "for i in range(len(max_torques)):\n",
    "    temp = re.findall('[0-9]+', str(max_torques[i]))\n",
    "    if len(temp) >= 2:\n",
    "        num1 = copy.deepcopy(temp[0])\n",
    "        num2 = copy.deepcopy(temp[1])\n",
    "        num3 = int(num1 + num2)\n",
    "        max_torques_edited.append(num3)\n",
    "    else:\n",
    "        num3 = int(num1)\n",
    "        max_torques_edited.append(num3)\n",
    "df['Max Torque'] = np.array(max_torques_edited)\n",
    "\n",
    "# Result\n",
    "print(\"Max Torques Column\")\n",
    "print(df['Max Torque'])\n",
    "\n"
   ]
  },
  {
   "attachments": {},
   "cell_type": "markdown",
   "metadata": {},
   "source": [
    "<h2>Correlation Matrix</h2>\n",
    "<ul>\n",
    "    <li>Correlation data frame</li>\n",
    "    <li>Correlation heatmap</li>\n",
    "</ul>"
   ]
  },
  {
   "cell_type": "code",
   "execution_count": 14,
   "metadata": {},
   "outputs": [
    {
     "name": "stdout",
     "output_type": "stream",
     "text": [
      "                        Make     Model      Year  Kilometer  Fuel Type  \\\n",
      "Make                1.000000  0.164767  0.028599   0.047267   0.002192   \n",
      "Model               0.164767  1.000000 -0.033830   0.026484  -0.070626   \n",
      "Year                0.028599 -0.033830  1.000000  -0.296547  -0.012958   \n",
      "Kilometer           0.047267  0.026484 -0.296547   1.000000  -0.180255   \n",
      "Fuel Type           0.002192 -0.070626 -0.012958  -0.180255   1.000000   \n",
      "Transmission        0.135597  0.196394 -0.171883   0.104907   0.086167   \n",
      "Location            0.039270 -0.013518 -0.076476   0.034490   0.055145   \n",
      "Color               0.039078  0.031841 -0.060233   0.061958  -0.030753   \n",
      "Owner               0.009231 -0.004555 -0.282341   0.090439  -0.055889   \n",
      "Seller Type        -0.041505 -0.023933 -0.037500   0.025995  -0.019066   \n",
      "Engine              0.019639 -0.013651 -0.003862   0.061523  -0.330326   \n",
      "Max Power          -0.126375 -0.081203  0.160643  -0.033176  -0.180510   \n",
      "Max Torque         -0.088206 -0.039346  0.154808   0.031903  -0.491793   \n",
      "Drivetrain          0.129438 -0.166899 -0.033902   0.004771  -0.006246   \n",
      "Length             -0.038921 -0.151656  0.093534   0.047473  -0.326794   \n",
      "Width              -0.086624 -0.025325  0.185129   0.017377  -0.361993   \n",
      "Height              0.228067  0.333650  0.109947   0.093136  -0.337233   \n",
      "Seating Capacity    0.219377  0.123985 -0.006029   0.124634  -0.294792   \n",
      "Fuel Tank Capacity  0.024709 -0.026932  0.060548   0.055418  -0.408232   \n",
      "Price              -0.038195 -0.078589  0.311400  -0.150825  -0.128157   \n",
      "\n",
      "                    Transmission  Location     Color     Owner  Seller Type  \\\n",
      "Make                    0.135597  0.039270  0.039078  0.009231    -0.041505   \n",
      "Model                   0.196394 -0.013518  0.031841 -0.004555    -0.023933   \n",
      "Year                   -0.171883 -0.076476 -0.060233 -0.282341    -0.037500   \n",
      "Kilometer               0.104907  0.034490  0.061958  0.090439     0.025995   \n",
      "Fuel Type               0.086167  0.055145 -0.030753 -0.055889    -0.019066   \n",
      "Transmission            1.000000  0.088292  0.146507 -0.063446     0.065903   \n",
      "Location                0.088292  1.000000  0.020000 -0.022602    -0.076587   \n",
      "Color                   0.146507  0.020000  1.000000  0.000403     0.012812   \n",
      "Owner                  -0.063446 -0.022602  0.000403  1.000000     0.058277   \n",
      "Seller Type             0.065903 -0.076587  0.012812  0.058277     1.000000   \n",
      "Engine                 -0.471493 -0.068818 -0.107298  0.144444    -0.052374   \n",
      "Max Power              -0.535537 -0.108591 -0.142544  0.053986    -0.072723   \n",
      "Max Torque             -0.525139 -0.111120 -0.112856  0.064245    -0.051833   \n",
      "Drivetrain              0.067444  0.034131  0.035928  0.003133     0.012329   \n",
      "Length                 -0.537109 -0.076638 -0.126172  0.086715    -0.052252   \n",
      "Width                  -0.519143 -0.102578 -0.120025  0.046117    -0.043056   \n",
      "Height                  0.059612  0.008626  0.015318  0.014022     0.020169   \n",
      "Seating Capacity        0.044407  0.039265  0.047436  0.043021     0.030233   \n",
      "Fuel Tank Capacity     -0.493361 -0.094025 -0.099272  0.086558    -0.039444   \n",
      "Price                  -0.476843 -0.115359 -0.128890  0.029360    -0.070351   \n",
      "\n",
      "                      Engine  Max Power  Max Torque  Drivetrain    Length  \\\n",
      "Make                0.019639  -0.126375   -0.088206    0.129438 -0.038921   \n",
      "Model              -0.013651  -0.081203   -0.039346   -0.166899 -0.151656   \n",
      "Year               -0.003862   0.160643    0.154808   -0.033902  0.093534   \n",
      "Kilometer           0.061523  -0.033176    0.031903    0.004771  0.047473   \n",
      "Fuel Type          -0.330326  -0.180510   -0.491793   -0.006246 -0.326794   \n",
      "Transmission       -0.471493  -0.535537   -0.525139    0.067444 -0.537109   \n",
      "Location           -0.068818  -0.108591   -0.111120    0.034131 -0.076638   \n",
      "Color              -0.107298  -0.142544   -0.112856    0.035928 -0.126172   \n",
      "Owner               0.144444   0.053986    0.064245    0.003133  0.086715   \n",
      "Seller Type        -0.052374  -0.072723   -0.051833    0.012329 -0.052252   \n",
      "Engine              1.000000   0.805995    0.807993   -0.008830  0.794922   \n",
      "Max Power           0.805995   1.000000    0.887521   -0.062733  0.743455   \n",
      "Max Torque          0.807993   0.887521    1.000000   -0.081636  0.779487   \n",
      "Drivetrain         -0.008830  -0.062733   -0.081636    1.000000  0.044984   \n",
      "Length              0.794922   0.743455    0.779487    0.044984  1.000000   \n",
      "Width               0.710037   0.690032    0.771910   -0.104976  0.807054   \n",
      "Height              0.339444   0.099463    0.263441   -0.146237  0.185451   \n",
      "Seating Capacity    0.331386   0.054070    0.209510    0.105238  0.295149   \n",
      "Fuel Tank Capacity  0.777315   0.696358    0.782315   -0.080886  0.799467   \n",
      "Price               0.610509   0.728605    0.638687   -0.089471  0.552668   \n",
      "\n",
      "                       Width    Height  Seating Capacity  Fuel Tank Capacity  \\\n",
      "Make               -0.086624  0.228067          0.219377            0.024709   \n",
      "Model              -0.025325  0.333650          0.123985           -0.026932   \n",
      "Year                0.185129  0.109947         -0.006029            0.060548   \n",
      "Kilometer           0.017377  0.093136          0.124634            0.055418   \n",
      "Fuel Type          -0.361993 -0.337233         -0.294792           -0.408232   \n",
      "Transmission       -0.519143  0.059612          0.044407           -0.493361   \n",
      "Location           -0.102578  0.008626          0.039265           -0.094025   \n",
      "Color              -0.120025  0.015318          0.047436           -0.099272   \n",
      "Owner               0.046117  0.014022          0.043021            0.086558   \n",
      "Seller Type        -0.043056  0.020169          0.030233           -0.039444   \n",
      "Engine              0.710037  0.339444          0.331386            0.777315   \n",
      "Max Power           0.690032  0.099463          0.054070            0.696358   \n",
      "Max Torque          0.771910  0.263441          0.209510            0.782315   \n",
      "Drivetrain         -0.104976 -0.146237          0.105238           -0.080886   \n",
      "Length              0.807054  0.185451          0.295149            0.799467   \n",
      "Width               1.000000  0.296702          0.221689            0.771803   \n",
      "Height              0.296702  1.000000          0.695761            0.392291   \n",
      "Seating Capacity    0.221689  0.695761          1.000000            0.311373   \n",
      "Fuel Tank Capacity  0.771803  0.392291          0.311373            1.000000   \n",
      "Price               0.559870  0.074530         -0.038242            0.562423   \n",
      "\n",
      "                       Price  \n",
      "Make               -0.038195  \n",
      "Model              -0.078589  \n",
      "Year                0.311400  \n",
      "Kilometer          -0.150825  \n",
      "Fuel Type          -0.128157  \n",
      "Transmission       -0.476843  \n",
      "Location           -0.115359  \n",
      "Color              -0.128890  \n",
      "Owner               0.029360  \n",
      "Seller Type        -0.070351  \n",
      "Engine              0.610509  \n",
      "Max Power           0.728605  \n",
      "Max Torque          0.638687  \n",
      "Drivetrain         -0.089471  \n",
      "Length              0.552668  \n",
      "Width               0.559870  \n",
      "Height              0.074530  \n",
      "Seating Capacity   -0.038242  \n",
      "Fuel Tank Capacity  0.562423  \n",
      "Price               1.000000  \n"
     ]
    },
    {
     "data": {
      "text/plain": [
       "<Axes: >"
      ]
     },
     "execution_count": 14,
     "metadata": {},
     "output_type": "execute_result"
    },
    {
     "data": {
      "image/png": "[encoded data removed]",
      "text/plain": [
       "<Figure size 640x480 with 2 Axes>"
      ]
     },
     "metadata": {},
     "output_type": "display_data"
    }
   ],
   "source": [
    "print(df.corr())\n",
    "corr_mat = df.corr()\n",
    "sns.heatmap(corr_mat, cmap='YlGnBu')\n"
   ]
  },
  {
   "attachments": {},
   "cell_type": "markdown",
   "metadata": {},
   "source": [
    "<h2>Explanation about correlation between features</h2>\n",
    "<p>Features with high correlation can cause issues for machine learning models because they can introduce multicollinearity, which can lead to unstable estimates of the coefficients. This can make the model sensitive to small changes in the data and can affect the model's interpretability. Additionally, high correlation between features can make the model less generalizable to new data, as it may be overfitting to the training data. Therefore, it's important to identify and handle highly correlated features to ensure the model's performance and interpretability.</p>\n",
    "<h4>Here are highly correlated features based on heatmap</h4>\n",
    "<ul>\n",
    "    <li>Max Torque</li>\n",
    "    <li>Max Power</li>\n",
    "    <li>Lenght</li>\n",
    "    <li>Width</li>\n",
    "    <li>Fuel Tank Capacity</li>\n",
    "</ul>\n",
    "<h5><b>NOTE:</b> With <b>PCA</b> I make a new feature based on these 5 highly correlated features and delete previous columns and add new feature</h5>"
   ]
  },
  {
   "cell_type": "code",
   "execution_count": 15,
   "metadata": {},
   "outputs": [],
   "source": [
    "pca = PCA(n_components=1)\n",
    "selected_df = df[['Max Power', 'Max Torque', 'Length', 'Width', 'Fuel Tank Capacity']]\n",
    "pca_np_array = pca.fit_transform(selected_df)\n",
    "\n",
    "del df['Max Power']\n",
    "del df['Max Torque']\n",
    "del df['Fuel Tank Capacity']\n",
    "del df['Length']\n",
    "del df['Width']\n",
    "df['PCA New Feature'] = pd.DataFrame(pca_np_array)"
   ]
  },
  {
   "cell_type": "code",
   "execution_count": 21,
   "metadata": {},
   "outputs": [
    {
     "name": "stdout",
     "output_type": "stream",
     "text": [
      "      Make  Model  Year  Kilometer  Fuel Type  Transmission  Location  Color  \\\n",
      "0        7    106  2017      87150          6             1        56      7   \n",
      "1       19    802  2014      75000          2             1        40     15   \n",
      "2        8   1030  2011      67000          6             1        39      8   \n",
      "3       30    492  2019      37500          6             1        41     13   \n",
      "4       30    548  2018      69000          2             1        45      7   \n",
      "...    ...    ...   ...        ...        ...           ...       ...    ...   \n",
      "2054    18    999  2016      90300          2             1        67     15   \n",
      "2055     8    414  2014      83000          6             1         1     15   \n",
      "2056     6    455  2013      73000          6             1        68     14   \n",
      "2057     1     13  2018      60474          2             0        12     15   \n",
      "2058    18    138  2017      72000          2             1        25     15   \n",
      "\n",
      "      Owner  Seller Type  Engine  Drivetrain  Height  Seating Capacity  \\\n",
      "0         1            1  1198.0           1  1505.0               5.0   \n",
      "1         3            2  1248.0           1  1555.0               5.0   \n",
      "2         1            2  1197.0           1  1550.0               5.0   \n",
      "3         1            2  1197.0           1  1510.0               5.0   \n",
      "4         1            2  2393.0           2  1795.0               7.0   \n",
      "...     ...          ...     ...         ...     ...               ...   \n",
      "2054      1            2  2179.0           1  1785.0               7.0   \n",
      "2055      3            2   814.0           1  1500.0               5.0   \n",
      "2056      1            2  1196.0           1  1427.0               5.0   \n",
      "2057      1            2  1995.0           2  1479.0               5.0   \n",
      "2058      1            2  1493.0           2  1880.0               7.0   \n",
      "\n",
      "      PCA New Feature    Price  \n",
      "0       -1.305009e+06   505000  \n",
      "1       -6.166855e+05   450000  \n",
      "2       -1.306452e+06   220000  \n",
      "3       -1.288479e+06   799000  \n",
      "4        1.080634e+06  1950000  \n",
      "...               ...      ...  \n",
      "2054     9.219030e+05   850000  \n",
      "2055    -1.744912e+06   275000  \n",
      "2056    -1.437225e+06   240000  \n",
      "2057     1.763281e+06  4290000  \n",
      "2058    -5.874368e+05   670000  \n",
      "\n",
      "[2059 rows x 16 columns]\n",
      "Index(['Make', 'Model', 'Year', 'Kilometer', 'Fuel Type', 'Transmission',\n",
      "       'Location', 'Color', 'Owner', 'Seller Type', 'Engine', 'Drivetrain',\n",
      "       'Height', 'Seating Capacity', 'PCA New Feature', 'Price'],\n",
      "      dtype='object')\n",
      "      Make  Model  Year  Kilometer  Fuel Type  Transmission  Location  Color  \\\n",
      "0        7    106  2017      87150          6             1        56      7   \n",
      "1       19    802  2014      75000          2             1        40     15   \n",
      "2        8   1030  2011      67000          6             1        39      8   \n",
      "3       30    492  2019      37500          6             1        41     13   \n",
      "4       30    548  2018      69000          2             1        45      7   \n",
      "...    ...    ...   ...        ...        ...           ...       ...    ...   \n",
      "2054    18    999  2016      90300          2             1        67     15   \n",
      "2055     8    414  2014      83000          6             1         1     15   \n",
      "2056     6    455  2013      73000          6             1        68     14   \n",
      "2057     1     13  2018      60474          2             0        12     15   \n",
      "2058    18    138  2017      72000          2             1        25     15   \n",
      "\n",
      "      Owner  Seller Type  Engine  Drivetrain  Height  Seating Capacity  \\\n",
      "0         1            1  1198.0           1  1505.0               5.0   \n",
      "1         3            2  1248.0           1  1555.0               5.0   \n",
      "2         1            2  1197.0           1  1550.0               5.0   \n",
      "3         1            2  1197.0           1  1510.0               5.0   \n",
      "4         1            2  2393.0           2  1795.0               7.0   \n",
      "...     ...          ...     ...         ...     ...               ...   \n",
      "2054      1            2  2179.0           1  1785.0               7.0   \n",
      "2055      3            2   814.0           1  1500.0               5.0   \n",
      "2056      1            2  1196.0           1  1427.0               5.0   \n",
      "2057      1            2  1995.0           2  1479.0               5.0   \n",
      "2058      1            2  1493.0           2  1880.0               7.0   \n",
      "\n",
      "      PCA New Feature    Price  \n",
      "0       -1.305009e+06   505000  \n",
      "1       -6.166855e+05   450000  \n",
      "2       -1.306452e+06   220000  \n",
      "3       -1.288479e+06   799000  \n",
      "4        1.080634e+06  1950000  \n",
      "...               ...      ...  \n",
      "2054     9.219030e+05   850000  \n",
      "2055    -1.744912e+06   275000  \n",
      "2056    -1.437225e+06   240000  \n",
      "2057     1.763281e+06  4290000  \n",
      "2058    -5.874368e+05   670000  \n",
      "\n",
      "[2059 rows x 16 columns]\n",
      "Index(['Make', 'Model', 'Year', 'Kilometer', 'Fuel Type', 'Transmission',\n",
      "       'Location', 'Color', 'Owner', 'Seller Type', 'Engine', 'Drivetrain',\n",
      "       'Height', 'Seating Capacity', 'PCA New Feature', 'Price'],\n",
      "      dtype='object')\n"
     ]
    }
   ],
   "source": [
    "print(df)\n",
    "print(df.columns)\n",
    "temp = df['Price']\n",
    "del df['Price']\n",
    "df['Price'] = temp\n",
    "print(df)\n",
    "print(df.columns)"
   ]
  },
  {
   "attachments": {},
   "cell_type": "markdown",
   "metadata": {},
   "source": [
    "<h2>Normalization</h2>\n",
    "<h5>Use standard normalization</h5>"
   ]
  },
  {
   "cell_type": "code",
   "execution_count": 22,
   "metadata": {},
   "outputs": [
    {
     "name": "stdout",
     "output_type": "stream",
     "text": [
      "[[-0.87682979 -1.36455963  0.17085758 ... -0.37853166 -0.8196618\n",
      "  -0.49518257]\n",
      " [ 0.43197891  0.89404139 -0.72127028 ... -0.37853166 -0.38733346\n",
      "  -0.51791649]\n",
      " [-0.7677624   1.63392794 -1.61339814 ... -0.37853166 -0.82056839\n",
      "  -0.61298559]\n",
      " ...\n",
      " [-0.98589718 -0.232014   -1.01864623 ... -0.37853166 -0.90270515\n",
      "  -0.60471871]\n",
      " [-1.53123414 -1.66635546  0.46823353 ... -0.37853166  1.10749779\n",
      "   1.06932413]\n",
      " [ 0.32291152 -1.26071591  0.17085758 ...  2.0933854  -0.36896269\n",
      "  -0.42698083]]\n"
     ]
    }
   ],
   "source": [
    "scaler = StandardScaler()\n",
    "df_standardized = scaler.fit_transform(df)\n",
    "print(df_standardized)\n"
   ]
  },
  {
   "attachments": {},
   "cell_type": "markdown",
   "metadata": {},
   "source": [
    "<h2>Split train and test data</h2>\n",
    "<ul>\n",
    "    <li>Rank data based on price</li>\n",
    "    <li>Get same amount of data from each group to make test data</li>\n",
    "</ul>"
   ]
  },
  {
   "cell_type": "code",
   "execution_count": 24,
   "metadata": {},
   "outputs": [
    {
     "name": "stdout",
     "output_type": "stream",
     "text": [
      "here\n",
      "2 0\n",
      "2 0\n",
      "2 0\n",
      "2 0\n",
      "2 0\n",
      "2 0\n",
      "2 0\n",
      "2 0\n",
      "2 0\n",
      "2 0\n"
     ]
    },
    {
     "ename": "KeyboardInterrupt",
     "evalue": "",
     "output_type": "error",
     "traceback": [
      "\u001b[1;31m---------------------------------------------------------------------------\u001b[0m",
      "\u001b[1;31mKeyboardInterrupt\u001b[0m                         Traceback (most recent call last)",
      "Cell \u001b[1;32mIn[24], line 17\u001b[0m\n\u001b[0;32m     15\u001b[0m \u001b[39mprint\u001b[39m(\u001b[39m'\u001b[39m\u001b[39mhere\u001b[39m\u001b[39m'\u001b[39m)\n\u001b[0;32m     16\u001b[0m \u001b[39mfor\u001b[39;00m index, row \u001b[39min\u001b[39;00m df\u001b[39m.\u001b[39miterrows():\n\u001b[1;32m---> 17\u001b[0m     \u001b[39mfor\u001b[39;00m j \u001b[39min\u001b[39;00m \u001b[39mrange\u001b[39m(\u001b[39mlen\u001b[39m(ranks)):\n\u001b[0;32m     18\u001b[0m         \u001b[39mif\u001b[39;00m row[\u001b[39m'\u001b[39m\u001b[39mPrice\u001b[39m\u001b[39m'\u001b[39m] \u001b[39min\u001b[39;00m ranks[j]:\n\u001b[0;32m     19\u001b[0m             \u001b[39mprint\u001b[39m(i, j)\n",
      "\u001b[1;31mKeyboardInterrupt\u001b[0m: "
     ]
    }
   ],
   "source": [
    "# Split features and lables (prices)\n",
    "X = df.iloc[:, :-1]\n",
    "y = df.iloc[:, -1]\n",
    "\n",
    "# Define a range and rank data based on their prices\n",
    "min_price = y.min()\n",
    "max_price = y.max()\n",
    "step = (max_price - min_price) / 3\n",
    "ranks = []\n",
    "\n",
    "# Make 3 ranges and rank data based on their price's ranks\n",
    "for i in range(3):\n",
    "    ranks.append(range(int(min_price + i*step - 100), int(min_price + (i+1)*step) + 100))\n",
    "temp = []\n",
    "print('here')\n",
    "for index, row in df.iterrows():\n",
    "    for j in range(len(ranks)):\n",
    "        if row['Price'] in ranks[j]:\n",
    "            print(i, j)\n",
    "            temp.append(j)\n",
    "\n",
    "# Add this column to data frame\n",
    "df['rank'] = temp\n",
    "print('split')\n",
    "# Split train and test data\n",
    "X_train, X_test, y_train, y_test = train_test_split(X, y, test_size=0.2, random_state=42, stratify=df['rank'])\n",
    "del df['rank']"
   ]
  },
  {
   "attachments": {},
   "cell_type": "markdown",
   "metadata": {},
   "source": [
    "<h2>GridSearchCV</h2>\n",
    "<ul>\n",
    "    <li>Ridge</li>\n",
    "    <li>Lasso</li>\n",
    "</ul>"
   ]
  },
  {
   "cell_type": "code",
   "execution_count": 38,
   "metadata": {},
   "outputs": [
    {
     "ename": "ValueError",
     "evalue": "\nAll the 15 fits failed.\nIt is very likely that your model is misconfigured.\nYou can try to debug the error by setting error_score='raise'.\n\nBelow are more details about the failures:\n--------------------------------------------------------------------------------\n3 fits failed with the following error:\nTraceback (most recent call last):\n  File \"e:\\tuts\\Machine_Learning_Fall_1402\\BabaAli\\Projects\\ML_Project_no2\\env\\Lib\\site-packages\\sklearn\\model_selection\\_validation.py\", line 729, in _fit_and_score\n    estimator.fit(X_train, y_train, **fit_params)\n  File \"e:\\tuts\\Machine_Learning_Fall_1402\\BabaAli\\Projects\\ML_Project_no2\\env\\Lib\\site-packages\\sklearn\\base.py\", line 1152, in wrapper\n    return fit_method(estimator, *args, **kwargs)\n           ^^^^^^^^^^^^^^^^^^^^^^^^^^^^^^^^^^^^^^\n  File \"e:\\tuts\\Machine_Learning_Fall_1402\\BabaAli\\Projects\\ML_Project_no2\\env\\Lib\\site-packages\\sklearn\\linear_model\\_ridge.py\", line 1123, in fit\n    X, y = self._validate_data(\n           ^^^^^^^^^^^^^^^^^^^^\n  File \"e:\\tuts\\Machine_Learning_Fall_1402\\BabaAli\\Projects\\ML_Project_no2\\env\\Lib\\site-packages\\sklearn\\base.py\", line 622, in _validate_data\n    X, y = check_X_y(X, y, **check_params)\n           ^^^^^^^^^^^^^^^^^^^^^^^^^^^^^^^\n  File \"e:\\tuts\\Machine_Learning_Fall_1402\\BabaAli\\Projects\\ML_Project_no2\\env\\Lib\\site-packages\\sklearn\\utils\\validation.py\", line 1146, in check_X_y\n    X = check_array(\n        ^^^^^^^^^^^^\n  File \"e:\\tuts\\Machine_Learning_Fall_1402\\BabaAli\\Projects\\ML_Project_no2\\env\\Lib\\site-packages\\sklearn\\utils\\validation.py\", line 915, in check_array\n    array = _asarray_with_order(array, order=order, dtype=dtype, xp=xp)\n            ^^^^^^^^^^^^^^^^^^^^^^^^^^^^^^^^^^^^^^^^^^^^^^^^^^^^^^^^^^^\n  File \"e:\\tuts\\Machine_Learning_Fall_1402\\BabaAli\\Projects\\ML_Project_no2\\env\\Lib\\site-packages\\sklearn\\utils\\_array_api.py\", line 380, in _asarray_with_order\n    array = numpy.asarray(array, order=order, dtype=dtype)\n            ^^^^^^^^^^^^^^^^^^^^^^^^^^^^^^^^^^^^^^^^^^^^^^\n  File \"e:\\tuts\\Machine_Learning_Fall_1402\\BabaAli\\Projects\\ML_Project_no2\\env\\Lib\\site-packages\\pandas\\core\\generic.py\", line 2084, in __array__\n    arr = np.asarray(values, dtype=dtype)\n          ^^^^^^^^^^^^^^^^^^^^^^^^^^^^^^^\nValueError: could not convert string to float: 'Maruti Suzuki'\n\n--------------------------------------------------------------------------------\n12 fits failed with the following error:\nTraceback (most recent call last):\n  File \"e:\\tuts\\Machine_Learning_Fall_1402\\BabaAli\\Projects\\ML_Project_no2\\env\\Lib\\site-packages\\sklearn\\model_selection\\_validation.py\", line 729, in _fit_and_score\n    estimator.fit(X_train, y_train, **fit_params)\n  File \"e:\\tuts\\Machine_Learning_Fall_1402\\BabaAli\\Projects\\ML_Project_no2\\env\\Lib\\site-packages\\sklearn\\base.py\", line 1152, in wrapper\n    return fit_method(estimator, *args, **kwargs)\n           ^^^^^^^^^^^^^^^^^^^^^^^^^^^^^^^^^^^^^^\n  File \"e:\\tuts\\Machine_Learning_Fall_1402\\BabaAli\\Projects\\ML_Project_no2\\env\\Lib\\site-packages\\sklearn\\linear_model\\_ridge.py\", line 1123, in fit\n    X, y = self._validate_data(\n           ^^^^^^^^^^^^^^^^^^^^\n  File \"e:\\tuts\\Machine_Learning_Fall_1402\\BabaAli\\Projects\\ML_Project_no2\\env\\Lib\\site-packages\\sklearn\\base.py\", line 622, in _validate_data\n    X, y = check_X_y(X, y, **check_params)\n           ^^^^^^^^^^^^^^^^^^^^^^^^^^^^^^^\n  File \"e:\\tuts\\Machine_Learning_Fall_1402\\BabaAli\\Projects\\ML_Project_no2\\env\\Lib\\site-packages\\sklearn\\utils\\validation.py\", line 1146, in check_X_y\n    X = check_array(\n        ^^^^^^^^^^^^\n  File \"e:\\tuts\\Machine_Learning_Fall_1402\\BabaAli\\Projects\\ML_Project_no2\\env\\Lib\\site-packages\\sklearn\\utils\\validation.py\", line 915, in check_array\n    array = _asarray_with_order(array, order=order, dtype=dtype, xp=xp)\n            ^^^^^^^^^^^^^^^^^^^^^^^^^^^^^^^^^^^^^^^^^^^^^^^^^^^^^^^^^^^\n  File \"e:\\tuts\\Machine_Learning_Fall_1402\\BabaAli\\Projects\\ML_Project_no2\\env\\Lib\\site-packages\\sklearn\\utils\\_array_api.py\", line 380, in _asarray_with_order\n    array = numpy.asarray(array, order=order, dtype=dtype)\n            ^^^^^^^^^^^^^^^^^^^^^^^^^^^^^^^^^^^^^^^^^^^^^^\n  File \"e:\\tuts\\Machine_Learning_Fall_1402\\BabaAli\\Projects\\ML_Project_no2\\env\\Lib\\site-packages\\pandas\\core\\generic.py\", line 2084, in __array__\n    arr = np.asarray(values, dtype=dtype)\n          ^^^^^^^^^^^^^^^^^^^^^^^^^^^^^^^\nValueError: could not convert string to float: 'Honda'\n",
     "output_type": "error",
     "traceback": [
      "\u001b[1;31m---------------------------------------------------------------------------\u001b[0m",
      "\u001b[1;31mValueError\u001b[0m                                Traceback (most recent call last)",
      "Cell \u001b[1;32mIn[38], line 6\u001b[0m\n\u001b[0;32m      4\u001b[0m \u001b[39m# Create a GridSearchCV object for Ridge\u001b[39;00m\n\u001b[0;32m      5\u001b[0m ridge_grid \u001b[39m=\u001b[39m GridSearchCV(Ridge(), param_grid, cv\u001b[39m=\u001b[39m\u001b[39m5\u001b[39m)\n\u001b[1;32m----> 6\u001b[0m ridge_grid\u001b[39m.\u001b[39;49mfit(X, y)\n\u001b[0;32m      8\u001b[0m \u001b[39m# Create a GridSearchCV object for Lasso\u001b[39;00m\n\u001b[0;32m      9\u001b[0m lasso_grid \u001b[39m=\u001b[39m GridSearchCV(Lasso(), param_grid, cv\u001b[39m=\u001b[39m\u001b[39m5\u001b[39m)\n",
      "File \u001b[1;32me:\\tuts\\Machine_Learning_Fall_1402\\BabaAli\\Projects\\ML_Project_no2\\env\\Lib\\site-packages\\sklearn\\base.py:1152\u001b[0m, in \u001b[0;36m_fit_context.<locals>.decorator.<locals>.wrapper\u001b[1;34m(estimator, *args, **kwargs)\u001b[0m\n\u001b[0;32m   1145\u001b[0m     estimator\u001b[39m.\u001b[39m_validate_params()\n\u001b[0;32m   1147\u001b[0m \u001b[39mwith\u001b[39;00m config_context(\n\u001b[0;32m   1148\u001b[0m     skip_parameter_validation\u001b[39m=\u001b[39m(\n\u001b[0;32m   1149\u001b[0m         prefer_skip_nested_validation \u001b[39mor\u001b[39;00m global_skip_validation\n\u001b[0;32m   1150\u001b[0m     )\n\u001b[0;32m   1151\u001b[0m ):\n\u001b[1;32m-> 1152\u001b[0m     \u001b[39mreturn\u001b[39;00m fit_method(estimator, \u001b[39m*\u001b[39;49margs, \u001b[39m*\u001b[39;49m\u001b[39m*\u001b[39;49mkwargs)\n",
      "File \u001b[1;32me:\\tuts\\Machine_Learning_Fall_1402\\BabaAli\\Projects\\ML_Project_no2\\env\\Lib\\site-packages\\sklearn\\model_selection\\_search.py:898\u001b[0m, in \u001b[0;36mBaseSearchCV.fit\u001b[1;34m(self, X, y, groups, **fit_params)\u001b[0m\n\u001b[0;32m    892\u001b[0m     results \u001b[39m=\u001b[39m \u001b[39mself\u001b[39m\u001b[39m.\u001b[39m_format_results(\n\u001b[0;32m    893\u001b[0m         all_candidate_params, n_splits, all_out, all_more_results\n\u001b[0;32m    894\u001b[0m     )\n\u001b[0;32m    896\u001b[0m     \u001b[39mreturn\u001b[39;00m results\n\u001b[1;32m--> 898\u001b[0m \u001b[39mself\u001b[39;49m\u001b[39m.\u001b[39;49m_run_search(evaluate_candidates)\n\u001b[0;32m    900\u001b[0m \u001b[39m# multimetric is determined here because in the case of a callable\u001b[39;00m\n\u001b[0;32m    901\u001b[0m \u001b[39m# self.scoring the return type is only known after calling\u001b[39;00m\n\u001b[0;32m    902\u001b[0m first_test_score \u001b[39m=\u001b[39m all_out[\u001b[39m0\u001b[39m][\u001b[39m\"\u001b[39m\u001b[39mtest_scores\u001b[39m\u001b[39m\"\u001b[39m]\n",
      "File \u001b[1;32me:\\tuts\\Machine_Learning_Fall_1402\\BabaAli\\Projects\\ML_Project_no2\\env\\Lib\\site-packages\\sklearn\\model_selection\\_search.py:1422\u001b[0m, in \u001b[0;36mGridSearchCV._run_search\u001b[1;34m(self, evaluate_candidates)\u001b[0m\n\u001b[0;32m   1420\u001b[0m \u001b[39mdef\u001b[39;00m \u001b[39m_run_search\u001b[39m(\u001b[39mself\u001b[39m, evaluate_candidates):\n\u001b[0;32m   1421\u001b[0m \u001b[39m    \u001b[39m\u001b[39m\"\"\"Search all candidates in param_grid\"\"\"\u001b[39;00m\n\u001b[1;32m-> 1422\u001b[0m     evaluate_candidates(ParameterGrid(\u001b[39mself\u001b[39;49m\u001b[39m.\u001b[39;49mparam_grid))\n",
      "File \u001b[1;32me:\\tuts\\Machine_Learning_Fall_1402\\BabaAli\\Projects\\ML_Project_no2\\env\\Lib\\site-packages\\sklearn\\model_selection\\_search.py:875\u001b[0m, in \u001b[0;36mBaseSearchCV.fit.<locals>.evaluate_candidates\u001b[1;34m(candidate_params, cv, more_results)\u001b[0m\n\u001b[0;32m    868\u001b[0m \u001b[39melif\u001b[39;00m \u001b[39mlen\u001b[39m(out) \u001b[39m!=\u001b[39m n_candidates \u001b[39m*\u001b[39m n_splits:\n\u001b[0;32m    869\u001b[0m     \u001b[39mraise\u001b[39;00m \u001b[39mValueError\u001b[39;00m(\n\u001b[0;32m    870\u001b[0m         \u001b[39m\"\u001b[39m\u001b[39mcv.split and cv.get_n_splits returned \u001b[39m\u001b[39m\"\u001b[39m\n\u001b[0;32m    871\u001b[0m         \u001b[39m\"\u001b[39m\u001b[39minconsistent results. Expected \u001b[39m\u001b[39m{}\u001b[39;00m\u001b[39m \u001b[39m\u001b[39m\"\u001b[39m\n\u001b[0;32m    872\u001b[0m         \u001b[39m\"\u001b[39m\u001b[39msplits, got \u001b[39m\u001b[39m{}\u001b[39;00m\u001b[39m\"\u001b[39m\u001b[39m.\u001b[39mformat(n_splits, \u001b[39mlen\u001b[39m(out) \u001b[39m/\u001b[39m\u001b[39m/\u001b[39m n_candidates)\n\u001b[0;32m    873\u001b[0m     )\n\u001b[1;32m--> 875\u001b[0m _warn_or_raise_about_fit_failures(out, \u001b[39mself\u001b[39;49m\u001b[39m.\u001b[39;49merror_score)\n\u001b[0;32m    877\u001b[0m \u001b[39m# For callable self.scoring, the return type is only know after\u001b[39;00m\n\u001b[0;32m    878\u001b[0m \u001b[39m# calling. If the return type is a dictionary, the error scores\u001b[39;00m\n\u001b[0;32m    879\u001b[0m \u001b[39m# can now be inserted with the correct key. The type checking\u001b[39;00m\n\u001b[0;32m    880\u001b[0m \u001b[39m# of out will be done in `_insert_error_scores`.\u001b[39;00m\n\u001b[0;32m    881\u001b[0m \u001b[39mif\u001b[39;00m \u001b[39mcallable\u001b[39m(\u001b[39mself\u001b[39m\u001b[39m.\u001b[39mscoring):\n",
      "File \u001b[1;32me:\\tuts\\Machine_Learning_Fall_1402\\BabaAli\\Projects\\ML_Project_no2\\env\\Lib\\site-packages\\sklearn\\model_selection\\_validation.py:414\u001b[0m, in \u001b[0;36m_warn_or_raise_about_fit_failures\u001b[1;34m(results, error_score)\u001b[0m\n\u001b[0;32m    407\u001b[0m \u001b[39mif\u001b[39;00m num_failed_fits \u001b[39m==\u001b[39m num_fits:\n\u001b[0;32m    408\u001b[0m     all_fits_failed_message \u001b[39m=\u001b[39m (\n\u001b[0;32m    409\u001b[0m         \u001b[39mf\u001b[39m\u001b[39m\"\u001b[39m\u001b[39m\\n\u001b[39;00m\u001b[39mAll the \u001b[39m\u001b[39m{\u001b[39;00mnum_fits\u001b[39m}\u001b[39;00m\u001b[39m fits failed.\u001b[39m\u001b[39m\\n\u001b[39;00m\u001b[39m\"\u001b[39m\n\u001b[0;32m    410\u001b[0m         \u001b[39m\"\u001b[39m\u001b[39mIt is very likely that your model is misconfigured.\u001b[39m\u001b[39m\\n\u001b[39;00m\u001b[39m\"\u001b[39m\n\u001b[0;32m    411\u001b[0m         \u001b[39m\"\u001b[39m\u001b[39mYou can try to debug the error by setting error_score=\u001b[39m\u001b[39m'\u001b[39m\u001b[39mraise\u001b[39m\u001b[39m'\u001b[39m\u001b[39m.\u001b[39m\u001b[39m\\n\u001b[39;00m\u001b[39m\\n\u001b[39;00m\u001b[39m\"\u001b[39m\n\u001b[0;32m    412\u001b[0m         \u001b[39mf\u001b[39m\u001b[39m\"\u001b[39m\u001b[39mBelow are more details about the failures:\u001b[39m\u001b[39m\\n\u001b[39;00m\u001b[39m{\u001b[39;00mfit_errors_summary\u001b[39m}\u001b[39;00m\u001b[39m\"\u001b[39m\n\u001b[0;32m    413\u001b[0m     )\n\u001b[1;32m--> 414\u001b[0m     \u001b[39mraise\u001b[39;00m \u001b[39mValueError\u001b[39;00m(all_fits_failed_message)\n\u001b[0;32m    416\u001b[0m \u001b[39melse\u001b[39;00m:\n\u001b[0;32m    417\u001b[0m     some_fits_failed_message \u001b[39m=\u001b[39m (\n\u001b[0;32m    418\u001b[0m         \u001b[39mf\u001b[39m\u001b[39m\"\u001b[39m\u001b[39m\\n\u001b[39;00m\u001b[39m{\u001b[39;00mnum_failed_fits\u001b[39m}\u001b[39;00m\u001b[39m fits failed out of a total of \u001b[39m\u001b[39m{\u001b[39;00mnum_fits\u001b[39m}\u001b[39;00m\u001b[39m.\u001b[39m\u001b[39m\\n\u001b[39;00m\u001b[39m\"\u001b[39m\n\u001b[0;32m    419\u001b[0m         \u001b[39m\"\u001b[39m\u001b[39mThe score on these train-test partitions for these parameters\u001b[39m\u001b[39m\"\u001b[39m\n\u001b[1;32m   (...)\u001b[0m\n\u001b[0;32m    423\u001b[0m         \u001b[39mf\u001b[39m\u001b[39m\"\u001b[39m\u001b[39mBelow are more details about the failures:\u001b[39m\u001b[39m\\n\u001b[39;00m\u001b[39m{\u001b[39;00mfit_errors_summary\u001b[39m}\u001b[39;00m\u001b[39m\"\u001b[39m\n\u001b[0;32m    424\u001b[0m     )\n",
      "\u001b[1;31mValueError\u001b[0m: \nAll the 15 fits failed.\nIt is very likely that your model is misconfigured.\nYou can try to debug the error by setting error_score='raise'.\n\nBelow are more details about the failures:\n--------------------------------------------------------------------------------\n3 fits failed with the following error:\nTraceback (most recent call last):\n  File \"e:\\tuts\\Machine_Learning_Fall_1402\\BabaAli\\Projects\\ML_Project_no2\\env\\Lib\\site-packages\\sklearn\\model_selection\\_validation.py\", line 729, in _fit_and_score\n    estimator.fit(X_train, y_train, **fit_params)\n  File \"e:\\tuts\\Machine_Learning_Fall_1402\\BabaAli\\Projects\\ML_Project_no2\\env\\Lib\\site-packages\\sklearn\\base.py\", line 1152, in wrapper\n    return fit_method(estimator, *args, **kwargs)\n           ^^^^^^^^^^^^^^^^^^^^^^^^^^^^^^^^^^^^^^\n  File \"e:\\tuts\\Machine_Learning_Fall_1402\\BabaAli\\Projects\\ML_Project_no2\\env\\Lib\\site-packages\\sklearn\\linear_model\\_ridge.py\", line 1123, in fit\n    X, y = self._validate_data(\n           ^^^^^^^^^^^^^^^^^^^^\n  File \"e:\\tuts\\Machine_Learning_Fall_1402\\BabaAli\\Projects\\ML_Project_no2\\env\\Lib\\site-packages\\sklearn\\base.py\", line 622, in _validate_data\n    X, y = check_X_y(X, y, **check_params)\n           ^^^^^^^^^^^^^^^^^^^^^^^^^^^^^^^\n  File \"e:\\tuts\\Machine_Learning_Fall_1402\\BabaAli\\Projects\\ML_Project_no2\\env\\Lib\\site-packages\\sklearn\\utils\\validation.py\", line 1146, in check_X_y\n    X = check_array(\n        ^^^^^^^^^^^^\n  File \"e:\\tuts\\Machine_Learning_Fall_1402\\BabaAli\\Projects\\ML_Project_no2\\env\\Lib\\site-packages\\sklearn\\utils\\validation.py\", line 915, in check_array\n    array = _asarray_with_order(array, order=order, dtype=dtype, xp=xp)\n            ^^^^^^^^^^^^^^^^^^^^^^^^^^^^^^^^^^^^^^^^^^^^^^^^^^^^^^^^^^^\n  File \"e:\\tuts\\Machine_Learning_Fall_1402\\BabaAli\\Projects\\ML_Project_no2\\env\\Lib\\site-packages\\sklearn\\utils\\_array_api.py\", line 380, in _asarray_with_order\n    array = numpy.asarray(array, order=order, dtype=dtype)\n            ^^^^^^^^^^^^^^^^^^^^^^^^^^^^^^^^^^^^^^^^^^^^^^\n  File \"e:\\tuts\\Machine_Learning_Fall_1402\\BabaAli\\Projects\\ML_Project_no2\\env\\Lib\\site-packages\\pandas\\core\\generic.py\", line 2084, in __array__\n    arr = np.asarray(values, dtype=dtype)\n          ^^^^^^^^^^^^^^^^^^^^^^^^^^^^^^^\nValueError: could not convert string to float: 'Maruti Suzuki'\n\n--------------------------------------------------------------------------------\n12 fits failed with the following error:\nTraceback (most recent call last):\n  File \"e:\\tuts\\Machine_Learning_Fall_1402\\BabaAli\\Projects\\ML_Project_no2\\env\\Lib\\site-packages\\sklearn\\model_selection\\_validation.py\", line 729, in _fit_and_score\n    estimator.fit(X_train, y_train, **fit_params)\n  File \"e:\\tuts\\Machine_Learning_Fall_1402\\BabaAli\\Projects\\ML_Project_no2\\env\\Lib\\site-packages\\sklearn\\base.py\", line 1152, in wrapper\n    return fit_method(estimator, *args, **kwargs)\n           ^^^^^^^^^^^^^^^^^^^^^^^^^^^^^^^^^^^^^^\n  File \"e:\\tuts\\Machine_Learning_Fall_1402\\BabaAli\\Projects\\ML_Project_no2\\env\\Lib\\site-packages\\sklearn\\linear_model\\_ridge.py\", line 1123, in fit\n    X, y = self._validate_data(\n           ^^^^^^^^^^^^^^^^^^^^\n  File \"e:\\tuts\\Machine_Learning_Fall_1402\\BabaAli\\Projects\\ML_Project_no2\\env\\Lib\\site-packages\\sklearn\\base.py\", line 622, in _validate_data\n    X, y = check_X_y(X, y, **check_params)\n           ^^^^^^^^^^^^^^^^^^^^^^^^^^^^^^^\n  File \"e:\\tuts\\Machine_Learning_Fall_1402\\BabaAli\\Projects\\ML_Project_no2\\env\\Lib\\site-packages\\sklearn\\utils\\validation.py\", line 1146, in check_X_y\n    X = check_array(\n        ^^^^^^^^^^^^\n  File \"e:\\tuts\\Machine_Learning_Fall_1402\\BabaAli\\Projects\\ML_Project_no2\\env\\Lib\\site-packages\\sklearn\\utils\\validation.py\", line 915, in check_array\n    array = _asarray_with_order(array, order=order, dtype=dtype, xp=xp)\n            ^^^^^^^^^^^^^^^^^^^^^^^^^^^^^^^^^^^^^^^^^^^^^^^^^^^^^^^^^^^\n  File \"e:\\tuts\\Machine_Learning_Fall_1402\\BabaAli\\Projects\\ML_Project_no2\\env\\Lib\\site-packages\\sklearn\\utils\\_array_api.py\", line 380, in _asarray_with_order\n    array = numpy.asarray(array, order=order, dtype=dtype)\n            ^^^^^^^^^^^^^^^^^^^^^^^^^^^^^^^^^^^^^^^^^^^^^^\n  File \"e:\\tuts\\Machine_Learning_Fall_1402\\BabaAli\\Projects\\ML_Project_no2\\env\\Lib\\site-packages\\pandas\\core\\generic.py\", line 2084, in __array__\n    arr = np.asarray(values, dtype=dtype)\n          ^^^^^^^^^^^^^^^^^^^^^^^^^^^^^^^\nValueError: could not convert string to float: 'Honda'\n"
     ]
    }
   ],
   "source": [
    "# Create a parameter grid\n",
    "param_grid = {'alpha': [0.1, 1, 10]}\n",
    "\n",
    "# Create a GridSearchCV object for Ridge\n",
    "ridge_grid = GridSearchCV(Ridge(), param_grid, cv=5)\n",
    "ridge_grid.fit(X, y)\n",
    "\n",
    "# Create a GridSearchCV object for Lasso\n",
    "lasso_grid = GridSearchCV(Lasso(), param_grid, cv=5)\n",
    "lasso_grid.fit(X, y)\n",
    "\n",
    "# Print the best parameters and the best score for Ridge\n",
    "print(\"Best parameters for Ridge: \", ridge_grid.best_params_)\n",
    "print(\"Best score for Ridge: \", ridge_grid.best_score_)\n",
    "\n",
    "# Print the best parameters and the best score for Lasso\n",
    "print(\"Best parameters for Lasso: \", lasso_grid.best_params_)\n",
    "print(\"Best score for Lasso: \", lasso_grid.best_score_)"
   ]
  }
 ],
 "metadata": {
  "kernelspec": {
   "display_name": "env",
   "language": "python",
   "name": "python3"
  },
  "language_info": {
   "codemirror_mode": {
    "name": "ipython",
    "version": 3
   },
   "file_extension": ".py",
   "mimetype": "text/x-python",
   "name": "python",
   "nbconvert_exporter": "python",
   "pygments_lexer": "ipython3",
   "version": "3.11.2"
  },
  "orig_nbformat": 4
 },
 "nbformat": 4,
 "nbformat_minor": 2
}
