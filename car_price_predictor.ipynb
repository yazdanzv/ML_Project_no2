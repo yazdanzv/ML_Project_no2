{
 "cells": [
  {
   "attachments": {},
   "cell_type": "markdown",
   "metadata": {},
   "source": [
    "<h2>Split train and test data</h2>\n",
    "<ul>\n",
    "    <li>Rank data based on price</li>\n",
    "    <li>Get same amount of data from each group to make test data</li>\n",
    "</ul>\n",
    "<h5><b>NOTE:</b> csv file change maually and price column moved to the last column</h5>"
   ]
  },
  {
   "cell_type": "code",
   "execution_count": 41,
   "metadata": {},
   "outputs": [],
   "source": [
    "import pandas as pd\n",
    "import numpy as np\n",
    "import matplotlib.pyplot as plt\n",
    "from sklearn.model_selection import train_test_split\n",
    "from sklearn.preprocessing import LabelEncoder"
   ]
  },
  {
   "cell_type": "code",
   "execution_count": 2,
   "metadata": {},
   "outputs": [],
   "source": [
    "# Load data\n",
    "df = pd.read_csv('.\\\\car_details_v4.csv')\n",
    "\n",
    "# Split features and lables (prices)\n",
    "X = df.iloc[:, :-1]\n",
    "y = df.iloc[:, -1]\n",
    "\n",
    "# Define a range and rank data based on their prices\n",
    "min_price = y.min()\n",
    "max_price = y.max()\n",
    "step = (max_price - min_price) / 3\n",
    "ranks = []\n",
    "\n",
    "# Make 3 ranges and rank data based on their price's ranks\n",
    "for i in range(3):\n",
    "    ranks.append(range(int(min_price + i*step - 100), int(min_price + (i+1)*step) + 100))\n",
    "temp = []\n",
    "for index, row in df.iterrows():\n",
    "    for j in range(len(ranks)):\n",
    "        if row['Price'] in ranks[j]:\n",
    "            temp.append(j)\n",
    "\n",
    "# Add this column to data frame\n",
    "df['rank'] = temp\n",
    "\n",
    "# Split train and test data\n",
    "X_train, X_test, y_train, y_test = train_test_split(X, y, test_size=0.2, random_state=42, stratify=df['rank'])\n"
   ]
  },
  {
   "attachments": {},
   "cell_type": "markdown",
   "metadata": {},
   "source": [
    "<h2>Show some features</h2>\n",
    "<ul>\n",
    "    <li>Price</li>\n",
    "    <li>Sitting Capisity</li>\n",
    "    <li>Year</li>\n",
    "    <li>Height</li>\n",
    "    <li>Lenght</li>\n",
    "    <li>Width</li>\n",
    "</ul>"
   ]
  },
  {
   "cell_type": "code",
   "execution_count": 3,
   "metadata": {},
   "outputs": [
    {
     "data": {
      "image/png": "[encoded data removed]",
      "text/plain": [
       "<Figure size 640x480 with 6 Axes>"
      ]
     },
     "metadata": {},
     "output_type": "display_data"
    }
   ],
   "source": [
    "prices = y.values\n",
    "years = df['Year'].values\n",
    "siting = df['Seating Capacity'].values\n",
    "widths = df['Width'].values\n",
    "heights = df['Height'].values\n",
    "lenghts = df['Length'].values\n",
    "\n",
    "# Prices\n",
    "plt.subplot(2, 3, 1)\n",
    "plt.subplots_adjust(left=0.1,\n",
    "                    bottom=0.1, \n",
    "                    right=0.9, \n",
    "                    top=0.9, \n",
    "                    wspace=0.4, \n",
    "                    hspace=0.4)\n",
    "prices_hist = plt.hist(prices, bins=20, color='skyblue')\n",
    "plt.title(\"Price\")\n",
    "\n",
    "# Years\n",
    "plt.subplot(2, 3, 2)\n",
    "plt.subplots_adjust(left=0.1,\n",
    "                    bottom=0.1, \n",
    "                    right=0.9, \n",
    "                    top=0.9, \n",
    "                    wspace=0.4, \n",
    "                    hspace=0.4)\n",
    "years_hist = plt.hist(years, bins=20, color='red')\n",
    "plt.title(\"Year\")\n",
    "\n",
    "# Sitting Capacity\n",
    "plt.subplot(2, 3, 3)\n",
    "plt.subplots_adjust(left=0.1,\n",
    "                    bottom=0.1, \n",
    "                    right=0.9, \n",
    "                    top=0.9, \n",
    "                    wspace=0.4, \n",
    "                    hspace=0.4)\n",
    "makes_hist = plt.hist(siting, bins=20, color='green')\n",
    "plt.title(\"Sitting Capacity\")\n",
    "\n",
    "# Widths\n",
    "plt.subplot(2, 3, 4)\n",
    "plt.subplots_adjust(left=0.1,\n",
    "                    bottom=0.1, \n",
    "                    right=0.9, \n",
    "                    top=0.9, \n",
    "                    wspace=0.4, \n",
    "                    hspace=0.4)\n",
    "makes_hist = plt.hist(siting, bins=20, color='purple')\n",
    "plt.title(\"Width\")\n",
    "\n",
    "# Lenghts\n",
    "plt.subplot(2, 3, 5)\n",
    "plt.subplots_adjust(left=0.1,\n",
    "                    bottom=0.1, \n",
    "                    right=0.9, \n",
    "                    top=0.9, \n",
    "                    wspace=0.4, \n",
    "                    hspace=0.4)\n",
    "makes_hist = plt.hist(widths, bins=20, color='salmon')\n",
    "plt.title(\"Lenght\")\n",
    "\n",
    "# Heights\n",
    "plt.subplot(2, 3, 6)\n",
    "plt.subplots_adjust(left=0.1,\n",
    "                    bottom=0.1, \n",
    "                    right=0.9, \n",
    "                    top=0.9, \n",
    "                    wspace=0.4, \n",
    "                    hspace=0.4)\n",
    "makes_hist = plt.hist(siting, bins=20, color='lightgreen')\n",
    "plt.title(\"Height\")\n",
    "\n",
    "plt.show()"
   ]
  },
  {
   "attachments": {},
   "cell_type": "markdown",
   "metadata": {},
   "source": [
    "<h2>Missing Values</h2>\n",
    "<h4>Statistics (Before Handling)</h4>"
   ]
  },
  {
   "cell_type": "code",
   "execution_count": 4,
   "metadata": {},
   "outputs": [
    {
     "name": "stdout",
     "output_type": "stream",
     "text": [
      "Make                    0\n",
      "Model                   0\n",
      "Year                    0\n",
      "Kilometer               0\n",
      "Fuel Type               0\n",
      "Transmission            0\n",
      "Location                0\n",
      "Color                   0\n",
      "Owner                   0\n",
      "Seller Type             0\n",
      "Engine                 80\n",
      "Max Power              80\n",
      "Max Torque             80\n",
      "Drivetrain            136\n",
      "Length                 64\n",
      "Width                  64\n",
      "Height                 64\n",
      "Seating Capacity       64\n",
      "Fuel Tank Capacity    113\n",
      "Price                   0\n",
      "rank                    0\n",
      "dtype: int64\n"
     ]
    }
   ],
   "source": [
    "print(df.isnull().sum())"
   ]
  },
  {
   "attachments": {},
   "cell_type": "markdown",
   "metadata": {},
   "source": [
    "<h2>Missing Values</h2>\n",
    "<h4>Diagram (Before Handling)</h4>"
   ]
  },
  {
   "cell_type": "code",
   "execution_count": 36,
   "metadata": {},
   "outputs": [
    {
     "data": {
      "image/png": "[encoded data removed]",
      "text/plain": [
       "<Figure size 640x480 with 1 Axes>"
      ]
     },
     "metadata": {},
     "output_type": "display_data"
    }
   ],
   "source": [
    "nan_list = df.isnull().sum().values\n",
    "plt.bar([i for i in range(len(df.columns))], nan_list, width=0.5, align='center')\n",
    "plt.xlabel(\"Index of the Column\")\n",
    "plt.ylabel(\"Number of NaN data\")\n",
    "plt.title(\"NaN data statistics\")\n",
    "plt.show()"
   ]
  },
  {
   "attachments": {},
   "cell_type": "markdown",
   "metadata": {},
   "source": [
    "<h2>Missing Values</h2>\n",
    "<h4>Handling numeric and non-numeric missing values</h4>\n",
    "<h5>Numeric Values</h5>\n",
    "<ul>\n",
    "    <li>Length</li>\n",
    "    <li>Width</li>\n",
    "    <li>height</li>\n",
    "    <li>Fuel Tank Capacity</li>\n",
    "    <li>Sitting Capacity</li>\n",
    "    <li>Engine</li>\n",
    "    <li>Max Power</li>\n",
    "    <li>Max Torque</li>\n",
    "</ul>\n",
    "<h5>Non-Numeric Values</h5>\n",
    "<ul>\n",
    "    <li>Drivetrain</li>\n",
    "</ul>\n",
    "<h4><b>NOTE:</b> Selected method is to replace missing values with the mean of rest data</h4>"
   ]
  },
  {
   "cell_type": "code",
   "execution_count": 37,
   "metadata": {},
   "outputs": [],
   "source": [
    "# Numeric Values\n",
    "# Length\n",
    "df['Length'] = df['Length'].fillna(df['Length'].mean())\n",
    "\n",
    "# Width\n",
    "df['Width'] = df['Width'].fillna(df['Width'].mean())\n",
    "\n",
    "# Height\n",
    "df['Height'] = df['Height'].fillna(df['Height'].mean())\n",
    "\n",
    "# Fuel Tank Capacity\n",
    "df['Fuel Tank Capacity'] = df['Fuel Tank Capacity'].fillna(df['Fuel Tank Capacity'].mean())\n",
    "\n",
    "# Seating Capacity\n",
    "df['Seating Capacity'] = df['Seating Capacity'].fillna(df['Seating Capacity'].mean())\n",
    "\n",
    "# Engine\n",
    "import copy\n",
    "df_copy = copy.deepcopy(df)\n",
    "engines = list(df_copy['Engine'].values)\n",
    "\n",
    "for i in range(len(engines)):\n",
    "    if type(engines[i]) == str:\n",
    "        c_index = engines[i].find('c')\n",
    "        engines[i] = int(engines[i][:c_index])\n",
    "\n",
    "df_copy['Engine'] = np.array(engines)\n",
    "df_copy['Engine'] = df_copy['Engine'].fillna(df_copy['Engine'].mean())\n",
    "\n",
    "# Max Power\n",
    "max_powers = copy.deepcopy(df_copy['Max Power'].values)\n",
    "df_copy['Max Power'] = df_copy['Max Power'].fillna(np.random.choice(max_powers, size=1)[0])\n",
    "\n",
    "# Max Torque\n",
    "max_powers = copy.deepcopy(df_copy['Max Torque'].values)\n",
    "df_copy['Max Torque'] = df_copy['Max Torque'].fillna(np.random.choice(max_powers, size=1)[0])\n",
    "\n",
    "# Non-numeric Values\n",
    "# Drivetrain\n",
    "drivetrains = copy.deepcopy(df_copy['Drivetrain'].values)\n",
    "df_copy['Drivetrain'] = df_copy['Drivetrain'].fillna(np.random.choice(drivetrains, size=1)[0])\n",
    "\n",
    "# Set df again\n",
    "# Worked with the copy version of df to do not change main data set\n",
    "df = copy.deepcopy(df_copy)"
   ]
  },
  {
   "attachments": {},
   "cell_type": "markdown",
   "metadata": {},
   "source": [
    "<h2>Missing Values</h2>\n",
    "<h4>Statistics (After Handling)</h4>"
   ]
  },
  {
   "cell_type": "code",
   "execution_count": 38,
   "metadata": {},
   "outputs": [
    {
     "name": "stdout",
     "output_type": "stream",
     "text": [
      "Make                    0\n",
      "Model                   0\n",
      "Year                    0\n",
      "Kilometer               0\n",
      "Fuel Type               0\n",
      "Transmission            0\n",
      "Location                0\n",
      "Color                   0\n",
      "Owner                   0\n",
      "Seller Type             0\n",
      "Engine                  0\n",
      "Max Power               0\n",
      "Max Torque              0\n",
      "Drivetrain            136\n",
      "Length                  0\n",
      "Width                   0\n",
      "Height                  0\n",
      "Seating Capacity        0\n",
      "Fuel Tank Capacity      0\n",
      "Price                   0\n",
      "rank                    0\n",
      "dtype: int64\n"
     ]
    }
   ],
   "source": [
    "print(df.isnull().sum())"
   ]
  },
  {
   "attachments": {},
   "cell_type": "markdown",
   "metadata": {},
   "source": [
    "<h2>Encoding categorical data</h2>\n",
    "<ul>\n",
    "    <li>Model</li>\n",
    "    <li>Make</li>\n",
    "    <li>Fuel Type</li>\n",
    "    <li>Transmission</li>\n",
    "    <li>Location</li>\n",
    "    <li>Color</li>\n",
    "    <li>Owner</li>\n",
    "    <li>Seller Type</li>\n",
    "    <li>Drivetrain</li>\n",
    "</ul>"
   ]
  },
  {
   "cell_type": "code",
   "execution_count": 48,
   "metadata": {},
   "outputs": [],
   "source": [
    "label_encoder = LabelEncoder()\n",
    "df['Model'] = label_encoder.fit_transform(df['Model'])\n",
    "df['Make'] = label_encoder.fit_transform(df['Make'])\n",
    "df['Fuel Type'] = label_encoder.fit_transform(df['Fuel Type'])\n",
    "df['Transmission'] = label_encoder.fit_transform(df['Transmission'])\n",
    "df['Location'] = label_encoder.fit_transform(df['Location'])\n",
    "df['Color'] = label_encoder.fit_transform(df['Color'])\n",
    "df['Owner'] = label_encoder.fit_transform(df['Owner'])\n",
    "df['Seller Type'] = label_encoder.fit_transform(df['Seller Type'])\n",
    "df['Drivetrain'] = label_encoder.fit_transform(df['Drivetrain'])\n"
   ]
  },
  {
   "attachments": {},
   "cell_type": "markdown",
   "metadata": {},
   "source": [
    "<h2>Encoding semi-categorical data</h2>\n",
    "<ul>\n",
    "    <li>Max Power</li>\n",
    "    <li>Max Torque</li>\n",
    "</ul>"
   ]
  }
 ],
 "metadata": {
  "kernelspec": {
   "display_name": "env",
   "language": "python",
   "name": "python3"
  },
  "language_info": {
   "codemirror_mode": {
    "name": "ipython",
    "version": 3
   },
   "file_extension": ".py",
   "mimetype": "text/x-python",
   "name": "python",
   "nbconvert_exporter": "python",
   "pygments_lexer": "ipython3",
   "version": "3.11.2"
  },
  "orig_nbformat": 4
 },
 "nbformat": 4,
 "nbformat_minor": 2
}
