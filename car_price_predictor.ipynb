{
 "cells": [
  {
   "attachments": {},
   "cell_type": "markdown",
   "metadata": {},
   "source": [
    "<h2>Load Data</h2>\n",
    "<ul>\n",
    "    <li>Rank data based on price into 3 groups</li>\n",
    "    <li>Get same amount of data from each group to make test data</li>\n",
    "</ul>\n",
    "<h5><b>NOTE:</b> csv file change maually and price column moved to the last column</h5>\n",
    "<h5><b>NOTE:</b> Spliting data done after pre processing to have proper X_train and X_test at the end</h5>"
   ]
  },
  {
   "cell_type": "code",
   "execution_count": 1,
   "metadata": {},
   "outputs": [],
   "source": [
    "import pandas as pd\n",
    "import numpy as np\n",
    "import matplotlib.pyplot as plt\n",
    "import seaborn as sns\n",
    "from sklearn.model_selection import train_test_split\n",
    "from sklearn.preprocessing import LabelEncoder\n",
    "from sklearn.decomposition import PCA\n",
    "from sklearn.preprocessing import StandardScaler\n",
    "from sklearn.model_selection import GridSearchCV\n",
    "from sklearn.linear_model import Ridge, Lasso\n",
    "from sklearn.metrics import mean_squared_error, r2_score\n",
    "from sklearn.model_selection import cross_val_score, KFold"
   ]
  },
  {
   "cell_type": "code",
   "execution_count": 2,
   "metadata": {},
   "outputs": [],
   "source": [
    "# Load data\n",
    "df = pd.read_csv('.\\\\car_details_v4.csv') # NOTE: Name of csv file after maniplating changed\n",
    "\n",
    "# Split features and lables (prices)\n",
    "X = df.iloc[:, :-1]\n",
    "y = df.iloc[:, -1]\n",
    "\n",
    "# Define a range and rank data based on their prices\n",
    "min_price = y.min()\n",
    "max_price = y.max()\n",
    "step = (max_price - min_price) / 3\n",
    "ranks = []\n",
    "\n",
    "# Make 3 ranges and rank data based on their price's ranks\n",
    "for i in range(3):\n",
    "    ranks.append(range(int(min_price + i*step - 100), int(min_price + (i+1)*step) + 100))\n",
    "temp = []\n",
    "for index, row in df.iterrows():\n",
    "    for j in range(len(ranks)):\n",
    "        if row['Price'] in ranks[j]:\n",
    "            temp.append(j)\n",
    "\n",
    "# Add this column to data frame\n",
    "df['rank'] = temp"
   ]
  },
  {
   "attachments": {},
   "cell_type": "markdown",
   "metadata": {},
   "source": [
    "<h2>Show some features</h2>\n",
    "<ul>\n",
    "    <li>Price</li>\n",
    "    <li>Sitting Capisity</li>\n",
    "    <li>Year</li>\n",
    "    <li>Height</li>\n",
    "    <li>Lenght</li>\n",
    "    <li>Width</li>\n",
    "</ul>"
   ]
  },
  {
   "cell_type": "code",
   "execution_count": 3,
   "metadata": {},
   "outputs": [
    {
     "data": {
      "image/png": "[encoded data removed]",
      "text/plain": [
       "<Figure size 640x480 with 6 Axes>"
      ]
     },
     "metadata": {},
     "output_type": "display_data"
    }
   ],
   "source": [
    "prices = y.values\n",
    "years = df['Year'].values\n",
    "siting = df['Seating Capacity'].values\n",
    "widths = df['Width'].values\n",
    "heights = df['Height'].values\n",
    "lenghts = df['Length'].values\n",
    "\n",
    "# Prices\n",
    "plt.subplot(2, 3, 1)\n",
    "plt.subplots_adjust(left=0.1,\n",
    "                    bottom=0.1, \n",
    "                    right=0.9, \n",
    "                    top=0.9, \n",
    "                    wspace=0.4, \n",
    "                    hspace=0.4)\n",
    "prices_hist = plt.hist(prices, bins=20, color='skyblue')\n",
    "plt.title(\"Price\")\n",
    "\n",
    "# Years\n",
    "plt.subplot(2, 3, 2)\n",
    "plt.subplots_adjust(left=0.1,\n",
    "                    bottom=0.1, \n",
    "                    right=0.9, \n",
    "                    top=0.9, \n",
    "                    wspace=0.4, \n",
    "                    hspace=0.4)\n",
    "years_hist = plt.hist(years, bins=20, color='red')\n",
    "plt.title(\"Year\")\n",
    "\n",
    "# Sitting Capacity\n",
    "plt.subplot(2, 3, 3)\n",
    "plt.subplots_adjust(left=0.1,\n",
    "                    bottom=0.1, \n",
    "                    right=0.9, \n",
    "                    top=0.9, \n",
    "                    wspace=0.4, \n",
    "                    hspace=0.4)\n",
    "makes_hist = plt.hist(siting, bins=20, color='green')\n",
    "plt.title(\"Sitting Capacity\")\n",
    "\n",
    "# Widths\n",
    "plt.subplot(2, 3, 4)\n",
    "plt.subplots_adjust(left=0.1,\n",
    "                    bottom=0.1, \n",
    "                    right=0.9, \n",
    "                    top=0.9, \n",
    "                    wspace=0.4, \n",
    "                    hspace=0.4)\n",
    "makes_hist = plt.hist(siting, bins=20, color='purple')\n",
    "plt.title(\"Width\")\n",
    "\n",
    "# Lenghts\n",
    "plt.subplot(2, 3, 5)\n",
    "plt.subplots_adjust(left=0.1,\n",
    "                    bottom=0.1, \n",
    "                    right=0.9, \n",
    "                    top=0.9, \n",
    "                    wspace=0.4, \n",
    "                    hspace=0.4)\n",
    "makes_hist = plt.hist(widths, bins=20, color='salmon')\n",
    "plt.title(\"Lenght\")\n",
    "\n",
    "# Heights\n",
    "plt.subplot(2, 3, 6)\n",
    "plt.subplots_adjust(left=0.1,\n",
    "                    bottom=0.1, \n",
    "                    right=0.9, \n",
    "                    top=0.9, \n",
    "                    wspace=0.4, \n",
    "                    hspace=0.4)\n",
    "makes_hist = plt.hist(siting, bins=20, color='lightgreen')\n",
    "plt.title(\"Height\")\n",
    "\n",
    "plt.show()"
   ]
  },
  {
   "attachments": {},
   "cell_type": "markdown",
   "metadata": {},
   "source": [
    "<h2>Missing Values</h2>\n",
    "<h4>Statistics (Before Handling)</h4>"
   ]
  },
  {
   "cell_type": "code",
   "execution_count": 4,
   "metadata": {},
   "outputs": [
    {
     "name": "stdout",
     "output_type": "stream",
     "text": [
      "Make                    0\n",
      "Model                   0\n",
      "Year                    0\n",
      "Kilometer               0\n",
      "Fuel Type               0\n",
      "Transmission            0\n",
      "Location                0\n",
      "Color                   0\n",
      "Owner                   0\n",
      "Seller Type             0\n",
      "Engine                 80\n",
      "Max Power              80\n",
      "Max Torque             80\n",
      "Drivetrain            136\n",
      "Length                 64\n",
      "Width                  64\n",
      "Height                 64\n",
      "Seating Capacity       64\n",
      "Fuel Tank Capacity    113\n",
      "Price                   0\n",
      "rank                    0\n",
      "dtype: int64\n"
     ]
    }
   ],
   "source": [
    "print(df.isnull().sum())"
   ]
  },
  {
   "attachments": {},
   "cell_type": "markdown",
   "metadata": {},
   "source": [
    "<h2>Missing Values</h2>\n",
    "<h4>Diagram (Before Handling)</h4>"
   ]
  },
  {
   "cell_type": "code",
   "execution_count": 5,
   "metadata": {},
   "outputs": [
    {
     "data": {
      "image/png": "[encoded data removed]",
      "text/plain": [
       "<Figure size 640x480 with 1 Axes>"
      ]
     },
     "metadata": {},
     "output_type": "display_data"
    }
   ],
   "source": [
    "nan_list = df.isnull().sum().values\n",
    "plt.bar([i for i in range(len(df.columns))], nan_list, width=0.5, align='center')\n",
    "plt.xlabel(\"Index of the Column\")\n",
    "plt.ylabel(\"Number of NaN data\")\n",
    "plt.title(\"NaN data statistics\")\n",
    "plt.show()"
   ]
  },
  {
   "attachments": {},
   "cell_type": "markdown",
   "metadata": {},
   "source": [
    "<h2>Missing Values</h2>\n",
    "<h4>Handling numeric and non-numeric missing values</h4>\n",
    "<h5>Numeric Values</h5>\n",
    "<ul>\n",
    "    <li>Length</li>\n",
    "    <li>Width</li>\n",
    "    <li>height</li>\n",
    "    <li>Fuel Tank Capacity</li>\n",
    "    <li>Sitting Capacity</li>\n",
    "    <li>Engine</li>\n",
    "    <li>Max Power</li>\n",
    "    <li>Max Torque</li>\n",
    "</ul>\n",
    "<h5>Non-Numeric Values</h5>\n",
    "<ul>\n",
    "    <li>Drivetrain</li>\n",
    "</ul>\n",
    "<h4><b>NOTE:</b> Selected method is to replace missing values with the mean of rest data</h4>"
   ]
  },
  {
   "cell_type": "code",
   "execution_count": 6,
   "metadata": {},
   "outputs": [],
   "source": [
    "# Numeric Values\n",
    "# Length\n",
    "X['Length'] = X['Length'].fillna(X['Length'].mean())\n",
    "\n",
    "# Width\n",
    "X['Width'] = X['Width'].fillna(X['Width'].mean())\n",
    "\n",
    "# Height\n",
    "X['Height'] = X['Height'].fillna(X['Height'].mean())\n",
    "\n",
    "# Fuel Tank Capacity\n",
    "X['Fuel Tank Capacity'] = X['Fuel Tank Capacity'].fillna(X['Fuel Tank Capacity'].mean())\n",
    "\n",
    "# Seating Capacity\n",
    "X['Seating Capacity'] = X['Seating Capacity'].fillna(X['Seating Capacity'].mean())\n",
    "\n",
    "# Engine\n",
    "import copy\n",
    "df_copy = copy.deepcopy(X)\n",
    "engines = list(df_copy['Engine'].values)\n",
    "\n",
    "for i in range(len(engines)):\n",
    "    if type(engines[i]) == str:\n",
    "        c_index = engines[i].find('c')\n",
    "        engines[i] = int(engines[i][:c_index])\n",
    "\n",
    "df_copy['Engine'] = np.array(engines)\n",
    "df_copy['Engine'] = df_copy['Engine'].fillna(df_copy['Engine'].mean())\n",
    "\n",
    "# Max Power\n",
    "max_powers = copy.deepcopy(df_copy['Max Power'].values)\n",
    "df_copy['Max Power'] = df_copy['Max Power'].fillna(np.random.choice(max_powers, size=1)[0])\n",
    "\n",
    "# Max Torque\n",
    "max_torques = copy.deepcopy(df_copy['Max Torque'].values)\n",
    "df_copy['Max Torque'] = df_copy['Max Torque'].fillna(np.random.choice(max_torques, size=1)[0])\n",
    "\n",
    "# Non-numeric Values\n",
    "# Drivetrain\n",
    "drivetrains = copy.deepcopy(df_copy['Drivetrain'].values)\n",
    "df_copy['Drivetrain'] = df_copy['Drivetrain'].fillna(np.random.choice(drivetrains, size=1)[0])\n",
    "\n",
    "# Set df again\n",
    "# Worked with the copy version of df to do not change main data set\n",
    "X = copy.deepcopy(df_copy)"
   ]
  },
  {
   "attachments": {},
   "cell_type": "markdown",
   "metadata": {},
   "source": [
    "<h2>Missing Values</h2>\n",
    "<h4>Statistics (After Handling)</h4>"
   ]
  },
  {
   "cell_type": "code",
   "execution_count": 7,
   "metadata": {},
   "outputs": [
    {
     "name": "stdout",
     "output_type": "stream",
     "text": [
      "Make                  0\n",
      "Model                 0\n",
      "Year                  0\n",
      "Kilometer             0\n",
      "Fuel Type             0\n",
      "Transmission          0\n",
      "Location              0\n",
      "Color                 0\n",
      "Owner                 0\n",
      "Seller Type           0\n",
      "Engine                0\n",
      "Max Power             0\n",
      "Max Torque            0\n",
      "Drivetrain            0\n",
      "Length                0\n",
      "Width                 0\n",
      "Height                0\n",
      "Seating Capacity      0\n",
      "Fuel Tank Capacity    0\n",
      "dtype: int64\n"
     ]
    }
   ],
   "source": [
    "print(X.isnull().sum())"
   ]
  },
  {
   "attachments": {},
   "cell_type": "markdown",
   "metadata": {},
   "source": [
    "<h2>Encoding categorical data</h2>\n",
    "<ul>\n",
    "    <li>Model</li>\n",
    "    <li>Make</li>\n",
    "    <li>Fuel Type</li>\n",
    "    <li>Transmission</li>\n",
    "    <li>Location</li>\n",
    "    <li>Color</li>\n",
    "    <li>Owner</li>\n",
    "    <li>Seller Type</li>\n",
    "    <li>Drivetrain</li>\n",
    "</ul>"
   ]
  },
  {
   "cell_type": "code",
   "execution_count": 8,
   "metadata": {},
   "outputs": [],
   "source": [
    "label_encoder = LabelEncoder()\n",
    "X['Model'] = label_encoder.fit_transform(X['Model'])\n",
    "X['Make'] = label_encoder.fit_transform(X['Make'])\n",
    "X['Fuel Type'] = label_encoder.fit_transform(X['Fuel Type'])\n",
    "X['Transmission'] = label_encoder.fit_transform(X['Transmission'])\n",
    "X['Location'] = label_encoder.fit_transform(X['Location'])\n",
    "X['Color'] = label_encoder.fit_transform(X['Color'])\n",
    "X['Owner'] = label_encoder.fit_transform(X['Owner'])\n",
    "X['Seller Type'] = label_encoder.fit_transform(X['Seller Type'])\n",
    "X['Drivetrain'] = label_encoder.fit_transform(X['Drivetrain'])\n"
   ]
  },
  {
   "attachments": {},
   "cell_type": "markdown",
   "metadata": {},
   "source": [
    "<h2>Changing semi-categorical data</h2>\n",
    "<ul>\n",
    "    <li>Max Power</li>\n",
    "    <li>Max Torque</li>\n",
    "</ul>\n",
    "<h4><b>NOTE:</b> Two numbers in these columns are concanate to each other and then cast to integer to make Max Power and Max Torque numeric</h4>"
   ]
  },
  {
   "cell_type": "code",
   "execution_count": 9,
   "metadata": {},
   "outputs": [
    {
     "name": "stdout",
     "output_type": "stream",
     "text": [
      "Max Power Column\n",
      "0        876000\n",
      "1        744000\n",
      "2        796000\n",
      "3        826000\n",
      "4       1483400\n",
      "         ...   \n",
      "2054    1383750\n",
      "2055     555500\n",
      "2056     706250\n",
      "2057    1884000\n",
      "2058     703600\n",
      "Name: Max Power, Length: 2059, dtype: int32\n",
      "Max Torques Column\n",
      "0       1094500\n",
      "1       1902000\n",
      "2       1127619\n",
      "3       1134200\n",
      "4       3431400\n",
      "         ...   \n",
      "2054    3301600\n",
      "2055     754000\n",
      "2056    1024000\n",
      "2057    4001750\n",
      "2058    1951400\n",
      "Name: Max Torque, Length: 2059, dtype: int32\n"
     ]
    }
   ],
   "source": [
    "import re\n",
    "# Max Power\n",
    "max_powers = list(max_powers)\n",
    "max_powers_edited = []\n",
    "for i in range(len(max_powers)):\n",
    "    temp = re.findall('[0-9]+', str(max_powers[i]))\n",
    "    if len(temp) >= 2:\n",
    "        num1 = copy.deepcopy(temp[0])\n",
    "        num2 = copy.deepcopy(temp[1])\n",
    "        num3 = int(num1 + num2)\n",
    "        max_powers_edited.append(num3)\n",
    "    else:\n",
    "        num3 = int(num1)\n",
    "        max_powers_edited.append(num3)\n",
    "\n",
    "X['Max Power'] = np.array(max_powers_edited)\n",
    "\n",
    "# Result\n",
    "print(\"Max Power Column\")\n",
    "print(X['Max Power'])\n",
    "    \n",
    "# Max Torque\n",
    "max_torques = list(max_torques)\n",
    "max_torques_edited = []\n",
    "for i in range(len(max_torques)):\n",
    "    temp = re.findall('[0-9]+', str(max_torques[i]))\n",
    "    if len(temp) >= 2:\n",
    "        num1 = copy.deepcopy(temp[0])\n",
    "        num2 = copy.deepcopy(temp[1])\n",
    "        num3 = int(num1 + num2)\n",
    "        max_torques_edited.append(num3)\n",
    "    else:\n",
    "        num3 = int(num1)\n",
    "        max_torques_edited.append(num3)\n",
    "X['Max Torque'] = np.array(max_torques_edited)\n",
    "\n",
    "# Result\n",
    "print(\"Max Torques Column\")\n",
    "print(X['Max Torque'])\n",
    "\n"
   ]
  },
  {
   "attachments": {},
   "cell_type": "markdown",
   "metadata": {},
   "source": [
    "<h2>Correlation Matrix</h2>\n",
    "<ul>\n",
    "    <li>Correlation data frame</li>\n",
    "    <li>Correlation heatmap</li>\n",
    "</ul>"
   ]
  },
  {
   "cell_type": "code",
   "execution_count": 10,
   "metadata": {},
   "outputs": [
    {
     "name": "stdout",
     "output_type": "stream",
     "text": [
      "                        Make     Model      Year  Kilometer  Fuel Type  \\\n",
      "Make                1.000000  0.164767  0.028599   0.047267   0.002192   \n",
      "Model               0.164767  1.000000 -0.033830   0.026484  -0.070626   \n",
      "Year                0.028599 -0.033830  1.000000  -0.296547  -0.012958   \n",
      "Kilometer           0.047267  0.026484 -0.296547   1.000000  -0.180255   \n",
      "Fuel Type           0.002192 -0.070626 -0.012958  -0.180255   1.000000   \n",
      "Transmission        0.135597  0.196394 -0.171883   0.104907   0.086167   \n",
      "Location            0.039270 -0.013518 -0.076476   0.034490   0.055145   \n",
      "Color               0.039078  0.031841 -0.060233   0.061958  -0.030753   \n",
      "Owner               0.009231 -0.004555 -0.282341   0.090439  -0.055889   \n",
      "Seller Type        -0.041505 -0.023933 -0.037500   0.025995  -0.019066   \n",
      "Engine              0.019639 -0.013651 -0.003862   0.061523  -0.330326   \n",
      "Max Power          -0.126375 -0.081203  0.160643  -0.033176  -0.180510   \n",
      "Max Torque         -0.088206 -0.039346  0.154808   0.031903  -0.491793   \n",
      "Drivetrain          0.129438 -0.166899 -0.033902   0.004771  -0.006246   \n",
      "Length             -0.038921 -0.151656  0.093534   0.047473  -0.326794   \n",
      "Width              -0.086624 -0.025325  0.185129   0.017377  -0.361993   \n",
      "Height              0.228067  0.333650  0.109947   0.093136  -0.337233   \n",
      "Seating Capacity    0.219377  0.123985 -0.006029   0.124634  -0.294792   \n",
      "Fuel Tank Capacity  0.024709 -0.026932  0.060548   0.055418  -0.408232   \n",
      "\n",
      "                    Transmission  Location     Color     Owner  Seller Type  \\\n",
      "Make                    0.135597  0.039270  0.039078  0.009231    -0.041505   \n",
      "Model                   0.196394 -0.013518  0.031841 -0.004555    -0.023933   \n",
      "Year                   -0.171883 -0.076476 -0.060233 -0.282341    -0.037500   \n",
      "Kilometer               0.104907  0.034490  0.061958  0.090439     0.025995   \n",
      "Fuel Type               0.086167  0.055145 -0.030753 -0.055889    -0.019066   \n",
      "Transmission            1.000000  0.088292  0.146507 -0.063446     0.065903   \n",
      "Location                0.088292  1.000000  0.020000 -0.022602    -0.076587   \n",
      "Color                   0.146507  0.020000  1.000000  0.000403     0.012812   \n",
      "Owner                  -0.063446 -0.022602  0.000403  1.000000     0.058277   \n",
      "Seller Type             0.065903 -0.076587  0.012812  0.058277     1.000000   \n",
      "Engine                 -0.471493 -0.068818 -0.107298  0.144444    -0.052374   \n",
      "Max Power              -0.535537 -0.108591 -0.142544  0.053986    -0.072723   \n",
      "Max Torque             -0.525139 -0.111120 -0.112856  0.064245    -0.051833   \n",
      "Drivetrain              0.067444  0.034131  0.035928  0.003133     0.012329   \n",
      "Length                 -0.537109 -0.076638 -0.126172  0.086715    -0.052252   \n",
      "Width                  -0.519143 -0.102578 -0.120025  0.046117    -0.043056   \n",
      "Height                  0.059612  0.008626  0.015318  0.014022     0.020169   \n",
      "Seating Capacity        0.044407  0.039265  0.047436  0.043021     0.030233   \n",
      "Fuel Tank Capacity     -0.493361 -0.094025 -0.099272  0.086558    -0.039444   \n",
      "\n",
      "                      Engine  Max Power  Max Torque  Drivetrain    Length  \\\n",
      "Make                0.019639  -0.126375   -0.088206    0.129438 -0.038921   \n",
      "Model              -0.013651  -0.081203   -0.039346   -0.166899 -0.151656   \n",
      "Year               -0.003862   0.160643    0.154808   -0.033902  0.093534   \n",
      "Kilometer           0.061523  -0.033176    0.031903    0.004771  0.047473   \n",
      "Fuel Type          -0.330326  -0.180510   -0.491793   -0.006246 -0.326794   \n",
      "Transmission       -0.471493  -0.535537   -0.525139    0.067444 -0.537109   \n",
      "Location           -0.068818  -0.108591   -0.111120    0.034131 -0.076638   \n",
      "Color              -0.107298  -0.142544   -0.112856    0.035928 -0.126172   \n",
      "Owner               0.144444   0.053986    0.064245    0.003133  0.086715   \n",
      "Seller Type        -0.052374  -0.072723   -0.051833    0.012329 -0.052252   \n",
      "Engine              1.000000   0.805995    0.807993   -0.008830  0.794922   \n",
      "Max Power           0.805995   1.000000    0.887521   -0.062733  0.743455   \n",
      "Max Torque          0.807993   0.887521    1.000000   -0.081636  0.779487   \n",
      "Drivetrain         -0.008830  -0.062733   -0.081636    1.000000  0.044984   \n",
      "Length              0.794922   0.743455    0.779487    0.044984  1.000000   \n",
      "Width               0.710037   0.690032    0.771910   -0.104976  0.807054   \n",
      "Height              0.339444   0.099463    0.263441   -0.146237  0.185451   \n",
      "Seating Capacity    0.331386   0.054070    0.209510    0.105238  0.295149   \n",
      "Fuel Tank Capacity  0.777315   0.696358    0.782315   -0.080886  0.799467   \n",
      "\n",
      "                       Width    Height  Seating Capacity  Fuel Tank Capacity  \n",
      "Make               -0.086624  0.228067          0.219377            0.024709  \n",
      "Model              -0.025325  0.333650          0.123985           -0.026932  \n",
      "Year                0.185129  0.109947         -0.006029            0.060548  \n",
      "Kilometer           0.017377  0.093136          0.124634            0.055418  \n",
      "Fuel Type          -0.361993 -0.337233         -0.294792           -0.408232  \n",
      "Transmission       -0.519143  0.059612          0.044407           -0.493361  \n",
      "Location           -0.102578  0.008626          0.039265           -0.094025  \n",
      "Color              -0.120025  0.015318          0.047436           -0.099272  \n",
      "Owner               0.046117  0.014022          0.043021            0.086558  \n",
      "Seller Type        -0.043056  0.020169          0.030233           -0.039444  \n",
      "Engine              0.710037  0.339444          0.331386            0.777315  \n",
      "Max Power           0.690032  0.099463          0.054070            0.696358  \n",
      "Max Torque          0.771910  0.263441          0.209510            0.782315  \n",
      "Drivetrain         -0.104976 -0.146237          0.105238           -0.080886  \n",
      "Length              0.807054  0.185451          0.295149            0.799467  \n",
      "Width               1.000000  0.296702          0.221689            0.771803  \n",
      "Height              0.296702  1.000000          0.695761            0.392291  \n",
      "Seating Capacity    0.221689  0.695761          1.000000            0.311373  \n",
      "Fuel Tank Capacity  0.771803  0.392291          0.311373            1.000000  \n"
     ]
    },
    {
     "data": {
      "text/plain": [
       "<Axes: >"
      ]
     },
     "execution_count": 10,
     "metadata": {},
     "output_type": "execute_result"
    },
    {
     "data": {
      "image/png": "[encoded data removed]",
      "text/plain": [
       "<Figure size 640x480 with 2 Axes>"
      ]
     },
     "metadata": {},
     "output_type": "display_data"
    }
   ],
   "source": [
    "print(X.corr())\n",
    "corr_mat = X.corr()\n",
    "sns.heatmap(corr_mat, cmap='YlGnBu')\n"
   ]
  },
  {
   "attachments": {},
   "cell_type": "markdown",
   "metadata": {},
   "source": [
    "<h2>Explanation about correlation between features</h2>\n",
    "<p>Features with high correlation can cause issues for machine learning models because they can introduce multicollinearity, which can lead to unstable estimates of the coefficients. This can make the model sensitive to small changes in the data and can affect the model's interpretability. Additionally, high correlation between features can make the model less generalizable to new data, as it may be overfitting to the training data. Therefore, it's important to identify and handle highly correlated features to ensure the model's performance and interpretability.</p>\n",
    "<h4>Here are highly correlated features based on heatmap</h4>\n",
    "<ul>\n",
    "    <li>Max Torque</li>\n",
    "    <li>Max Power</li>\n",
    "    <li>Lenght</li>\n",
    "    <li>Width</li>\n",
    "    <li>Fuel Tank Capacity</li>\n",
    "</ul>\n",
    "<h5><b>NOTE:</b> With <b>PCA</b> I make a new feature based on these 5 highly correlated features and delete previous columns and add new feature</h5>"
   ]
  },
  {
   "cell_type": "code",
   "execution_count": 11,
   "metadata": {},
   "outputs": [],
   "source": [
    "pca = PCA(n_components=1)\n",
    "selected_df = X[['Max Power', 'Max Torque', 'Length', 'Width', 'Fuel Tank Capacity']]\n",
    "pca_np_array = pca.fit_transform(selected_df)\n",
    "\n",
    "del X['Max Power']\n",
    "del X['Max Torque']\n",
    "del X['Fuel Tank Capacity']\n",
    "del X['Length']\n",
    "del X['Width']\n",
    "X['PCA New Feature'] = pd.DataFrame(pca_np_array)"
   ]
  },
  {
   "attachments": {},
   "cell_type": "markdown",
   "metadata": {},
   "source": [
    "<h2>Normalization</h2>\n",
    "<h5>Use standard normalization</h5>"
   ]
  },
  {
   "cell_type": "code",
   "execution_count": 12,
   "metadata": {},
   "outputs": [
    {
     "name": "stdout",
     "output_type": "stream",
     "text": [
      "[[-0.87682979 -1.36455963  0.17085758 ... -0.64771904 -0.37853166\n",
      "  -0.8196618 ]\n",
      " [ 0.43197891  0.89404139 -0.72127028 ... -0.27433084 -0.37853166\n",
      "  -0.38733346]\n",
      " [-0.7677624   1.63392794 -1.61339814 ... -0.31166966 -0.37853166\n",
      "  -0.82056839]\n",
      " ...\n",
      " [-0.98589718 -0.232014   -1.01864623 ... -1.23020463 -0.37853166\n",
      "  -0.90270515]\n",
      " [-1.53123414 -1.66635546  0.46823353 ... -0.8418809  -0.37853166\n",
      "   1.10749779]\n",
      " [ 0.32291152 -1.26071591  0.17085758 ...  2.15269247  2.0933854\n",
      "  -0.36896269]]\n"
     ]
    }
   ],
   "source": [
    "scaler = StandardScaler()\n",
    "X_standardized = scaler.fit_transform(X)\n",
    "print(X_standardized)"
   ]
  },
  {
   "attachments": {},
   "cell_type": "markdown",
   "metadata": {},
   "source": [
    "<h2>GridSearchCV</h2>\n",
    "<ul>\n",
    "    <li>Ridge</li>\n",
    "    <li>Lasso</li>\n",
    "</ul>"
   ]
  },
  {
   "cell_type": "code",
   "execution_count": 13,
   "metadata": {},
   "outputs": [
    {
     "name": "stdout",
     "output_type": "stream",
     "text": [
      "Best parameters for Ridge:  {'alpha': 10}\n",
      "Best score for Ridge:  0.5599902509249289\n",
      "Best parameters for Lasso:  {'alpha': 10}\n",
      "Best score for Lasso:  0.5597931171217259\n"
     ]
    }
   ],
   "source": [
    "# Split train and test data\n",
    "X_train, X_test, y_train, y_test = train_test_split(X, y, test_size=0.2, random_state=42, stratify=df['rank'])\n",
    "\n",
    "# Create a parameter grid\n",
    "param_grid = {'alpha': [0.1, 1, 10]}\n",
    "\n",
    "# Create a GridSearchCV object for Ridge\n",
    "ridge_grid = GridSearchCV(Ridge(), param_grid, cv=5)\n",
    "ridge_grid.fit(X_train, y_train)\n",
    "\n",
    "# Create a GridSearchCV object for Lasso\n",
    "lasso_grid = GridSearchCV(Lasso(), param_grid, cv=5)\n",
    "lasso_grid.fit(X_train, y_train)\n",
    "\n",
    "# Print the best parameters and the best score for Ridge\n",
    "print(\"Best parameters for Ridge: \", ridge_grid.best_params_)\n",
    "print(\"Best score for Ridge: \", ridge_grid.best_score_)\n",
    "\n",
    "# Print the best parameters and the best score for Lasso\n",
    "print(\"Best parameters for Lasso: \", lasso_grid.best_params_)\n",
    "print(\"Best score for Lasso: \", lasso_grid.best_score_)"
   ]
  },
  {
   "attachments": {},
   "cell_type": "markdown",
   "metadata": {},
   "source": [
    "<h2>Evaluate models on Test data</h2>\n",
    "<h5>Evaluating Metrics:</h5>\n",
    "<ul>\n",
    "    <li>RMSE</li>\n",
    "    <li>R2 Score</li>\n",
    "</ul>"
   ]
  },
  {
   "cell_type": "code",
   "execution_count": 14,
   "metadata": {},
   "outputs": [
    {
     "name": "stdout",
     "output_type": "stream",
     "text": [
      "RMSE for Ridge is 1793982.5105454226\n",
      "R2 Score for Ridge is 0.7396970743162112\n",
      "RMSE for Lasso is 1794334.6505683132\n",
      "R2 Score for Lasso is 0.7396970743162112\n"
     ]
    }
   ],
   "source": [
    "# Predict Test data\n",
    "y_pred_ridge = ridge_grid.best_estimator_.predict(X_test)\n",
    "y_pred_lasso = lasso_grid.best_estimator_.predict(X_test)\n",
    "\n",
    "# Evaluating by RMSE and R2 Score\n",
    "print(f\"RMSE for Ridge is {np.sqrt(mean_squared_error(y_test, y_pred_ridge))}\")\n",
    "print(f\"R2 Score for Ridge is {np.sqrt(r2_score(y_test, y_pred_ridge))}\")\n",
    "print(f\"RMSE for Lasso is {np.sqrt(mean_squared_error(y_test, y_pred_lasso))}\")\n",
    "print(f\"R2 Score for Lasso is {np.sqrt(r2_score(y_test, y_pred_ridge))}\")\n"
   ]
  },
  {
   "attachments": {},
   "cell_type": "markdown",
   "metadata": {},
   "source": [
    "<h2>Usage of K folds cross-validation</h2>\n",
    "<p>We use k-fold cross-validation to assess the performance of a model and to ensure that it generalizes well to new data. By dividing the dataset into k subsets, the model is trained on k-1 subsets and validated on the remaining subset. This process is repeated k times, with each subset used as the validation set exactly once. K-fold cross-validation provides a more reliable estimate of model performance compared to a single train-test split, as it reduces the variance of the evaluation metrics.</p>"
   ]
  },
  {
   "cell_type": "code",
   "execution_count": 15,
   "metadata": {},
   "outputs": [
    {
     "name": "stdout",
     "output_type": "stream",
     "text": [
      "Ridge Cross Validation Results : \n",
      "[0.45452292 0.58358123 0.49978162 0.69439181 0.59812292]\n",
      "Lasso Cross Validation Results : \n",
      "[0.45456476 0.58351133 0.49982773 0.69433845 0.5980789 ]\n"
     ]
    }
   ],
   "source": [
    "kf = KFold(n_splits=5, shuffle=True, random_state=42)\n",
    "ridge_results = cross_val_score(Ridge(), X_train, y_train, cv=kf, scoring='r2')\n",
    "print(\"Ridge Cross Validation Results : \")\n",
    "print(ridge_results)\n",
    "lasso_results = cross_val_score(Lasso(), X_train, y_train, cv=kf, scoring='r2')\n",
    "print(\"Lasso Cross Validation Results : \")\n",
    "print(lasso_results)"
   ]
  }
 ],
 "metadata": {
  "kernelspec": {
   "display_name": "env",
   "language": "python",
   "name": "python3"
  },
  "language_info": {
   "codemirror_mode": {
    "name": "ipython",
    "version": 3
   },
   "file_extension": ".py",
   "mimetype": "text/x-python",
   "name": "python",
   "nbconvert_exporter": "python",
   "pygments_lexer": "ipython3",
   "version": "3.11.2"
  },
  "orig_nbformat": 4
 },
 "nbformat": 4,
 "nbformat_minor": 2
}
