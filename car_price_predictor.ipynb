{
 "cells": [
  {
   "attachments": {},
   "cell_type": "markdown",
   "metadata": {},
   "source": [
    "<h2>Split train and test data</h2>\n",
    "<ul>\n",
    "    <li>Rank data based on price</li>\n",
    "    <li>Get same amount of data from each group to make test data</li>\n",
    "</ul>\n",
    "<h5><b>NOTE:</b> csv file change maually and price column moved to the last column</h5>"
   ]
  },
  {
   "cell_type": "code",
   "execution_count": 41,
   "metadata": {},
   "outputs": [],
   "source": [
    "import pandas as pd\n",
    "import numpy as np\n",
    "import matplotlib.pyplot as plt\n",
    "from sklearn.model_selection import train_test_split"
   ]
  },
  {
   "cell_type": "code",
   "execution_count": 40,
   "metadata": {},
   "outputs": [
    {
     "name": "stdout",
     "output_type": "stream",
     "text": [
      "2059\n",
      "0       0\n",
      "1       0\n",
      "2       0\n",
      "3       0\n",
      "4       0\n",
      "       ..\n",
      "2054    0\n",
      "2055    0\n",
      "2056    0\n",
      "2057    0\n",
      "2058    0\n",
      "Name: rank, Length: 2059, dtype: int64\n"
     ]
    }
   ],
   "source": [
    "# Load data\n",
    "df = pd.read_csv('.\\\\car_details_v4.csv')\n",
    "\n",
    "# Split features and lables (prices)\n",
    "X = df.iloc[:, :-1]\n",
    "y = df.iloc[:, -1]\n",
    "\n",
    "# Define a range and rank data based on their prices\n",
    "min_price = y.min()\n",
    "max_price = y.max()\n",
    "step = (max_price - min_price) / 3\n",
    "ranks = []\n",
    "\n",
    "# Make 3 ranges and rank data based on their price's ranks\n",
    "for i in range(3):\n",
    "    ranks.append(range(int(min_price + i*step - 100), int(min_price + (i+1)*step) + 100))\n",
    "temp = []\n",
    "for index, row in df.iterrows():\n",
    "    for j in range(len(ranks)):\n",
    "        if row['Price'] in ranks[j]:\n",
    "            temp.append(j)\n",
    "\n",
    "# Add this column to data frame\n",
    "df['rank'] = temp\n",
    "\n",
    "# Split train and test data\n",
    "X_train, X_test, y_train, y_test = train_test_split(X, y, test_size=0.2, random_state=42, stratify=df['rank'])\n"
   ]
  },
  {
   "attachments": {},
   "cell_type": "markdown",
   "metadata": {},
   "source": [
    "<h2>Show some features</h2>\n",
    "<ul>\n",
    "    <li>Price</li>\n",
    "    <li>Sitting Capisity</li>\n",
    "    <li>Year</li>\n",
    "    <li>Height</li>\n",
    "    <li>Lenght</li>\n",
    "    <li>Width</li>\n",
    "</ul>"
   ]
  },
  {
   "cell_type": "code",
   "execution_count": 64,
   "metadata": {},
   "outputs": [
    {
     "data": {
      "image/png": "[encoded data removed]",
      "text/plain": [
       "<Figure size 640x480 with 6 Axes>"
      ]
     },
     "metadata": {},
     "output_type": "display_data"
    }
   ],
   "source": [
    "prices = y.values\n",
    "years = df['Year'].values\n",
    "siting = df['Seating Capacity'].values\n",
    "widths = df['Width'].values\n",
    "heights = df['Height'].values\n",
    "lenghts = df['Length'].values\n",
    "\n",
    "# Prices\n",
    "plt.subplot(2, 3, 1)\n",
    "plt.subplots_adjust(left=0.1,\n",
    "                    bottom=0.1, \n",
    "                    right=0.9, \n",
    "                    top=0.9, \n",
    "                    wspace=0.4, \n",
    "                    hspace=0.4)\n",
    "prices_hist = plt.hist(prices, bins=20, color='skyblue')\n",
    "plt.title(\"Price\")\n",
    "\n",
    "# Years\n",
    "plt.subplot(2, 3, 2)\n",
    "plt.subplots_adjust(left=0.1,\n",
    "                    bottom=0.1, \n",
    "                    right=0.9, \n",
    "                    top=0.9, \n",
    "                    wspace=0.4, \n",
    "                    hspace=0.4)\n",
    "years_hist = plt.hist(years, bins=20, color='red')\n",
    "plt.title(\"Year\")\n",
    "\n",
    "# Sitting Capacity\n",
    "plt.subplot(2, 3, 3)\n",
    "plt.subplots_adjust(left=0.1,\n",
    "                    bottom=0.1, \n",
    "                    right=0.9, \n",
    "                    top=0.9, \n",
    "                    wspace=0.4, \n",
    "                    hspace=0.4)\n",
    "makes_hist = plt.hist(siting, bins=20, color='green')\n",
    "plt.title(\"Sitting Capacity\")\n",
    "\n",
    "# Widths\n",
    "plt.subplot(2, 3, 4)\n",
    "plt.subplots_adjust(left=0.1,\n",
    "                    bottom=0.1, \n",
    "                    right=0.9, \n",
    "                    top=0.9, \n",
    "                    wspace=0.4, \n",
    "                    hspace=0.4)\n",
    "makes_hist = plt.hist(siting, bins=20, color='purple')\n",
    "plt.title(\"Width\")\n",
    "\n",
    "# Lenghts\n",
    "plt.subplot(2, 3, 5)\n",
    "plt.subplots_adjust(left=0.1,\n",
    "                    bottom=0.1, \n",
    "                    right=0.9, \n",
    "                    top=0.9, \n",
    "                    wspace=0.4, \n",
    "                    hspace=0.4)\n",
    "makes_hist = plt.hist(widths, bins=20, color='salmon')\n",
    "plt.title(\"Lenght\")\n",
    "\n",
    "# Heights\n",
    "plt.subplot(2, 3, 6)\n",
    "plt.subplots_adjust(left=0.1,\n",
    "                    bottom=0.1, \n",
    "                    right=0.9, \n",
    "                    top=0.9, \n",
    "                    wspace=0.4, \n",
    "                    hspace=0.4)\n",
    "makes_hist = plt.hist(siting, bins=20, color='lightgreen')\n",
    "plt.title(\"Height\")\n",
    "\n",
    "plt.show()"
   ]
  },
  {
   "attachments": {},
   "cell_type": "markdown",
   "metadata": {},
   "source": [
    "<h2>Missing Values</h2>\n",
    "<h4>Statistics</h4>"
   ]
  },
  {
   "cell_type": "code",
   "execution_count": 65,
   "metadata": {},
   "outputs": [
    {
     "name": "stdout",
     "output_type": "stream",
     "text": [
      "Make                    0\n",
      "Model                   0\n",
      "Year                    0\n",
      "Kilometer               0\n",
      "Fuel Type               0\n",
      "Transmission            0\n",
      "Location                0\n",
      "Color                   0\n",
      "Owner                   0\n",
      "Seller Type             0\n",
      "Engine                 80\n",
      "Max Power              80\n",
      "Max Torque             80\n",
      "Drivetrain            136\n",
      "Length                 64\n",
      "Width                  64\n",
      "Height                 64\n",
      "Seating Capacity       64\n",
      "Fuel Tank Capacity    113\n",
      "Price                   0\n",
      "rank                    0\n",
      "dtype: int64\n"
     ]
    }
   ],
   "source": [
    "print(df.isnull().sum())"
   ]
  },
  {
   "attachments": {},
   "cell_type": "markdown",
   "metadata": {},
   "source": [
    "<h2>Missing Values</h2>\n",
    "<h4>Handling numeric missing values</h4>\n",
    "<ul>\n",
    "    <li>Lenght</li>\n",
    "    <li>Width</li>\n",
    "    <li>height</li>\n",
    "    <li>Fuel Tank Capacity</li>\n",
    "    <li>Sitting Capacity</li>\n",
    "    <li>Engine</li>\n",
    "    <li>Max Power</li>\n",
    "    <li>Max Torque</li>\n",
    "</ul>\n",
    "<h4><b>NOTE:</b> Selected method is to replace missing values with the mean of rest data</h4>"
   ]
  },
  {
   "cell_type": "code",
   "execution_count": null,
   "metadata": {},
   "outputs": [],
   "source": [
    "# Width\n"
   ]
  }
 ],
 "metadata": {
  "kernelspec": {
   "display_name": "env",
   "language": "python",
   "name": "python3"
  },
  "language_info": {
   "codemirror_mode": {
    "name": "ipython",
    "version": 3
   },
   "file_extension": ".py",
   "mimetype": "text/x-python",
   "name": "python",
   "nbconvert_exporter": "python",
   "pygments_lexer": "ipython3",
   "version": "3.11.2"
  },
  "orig_nbformat": 4
 },
 "nbformat": 4,
 "nbformat_minor": 2
}
